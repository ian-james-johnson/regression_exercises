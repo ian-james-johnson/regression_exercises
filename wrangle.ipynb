{
 "cells": [
  {
   "cell_type": "code",
   "execution_count": 1,
   "id": "f5545738",
   "metadata": {},
   "outputs": [],
   "source": [
    "import warnings\n",
    "warnings.filterwarnings('ignore')\n",
    "\n",
    "import numpy as np\n",
    "import pandas as pd\n",
    "import matplotlib.pyplot as plt\n",
    "import seaborn as sns\n",
    "\n",
    "from sklearn.model_selection import train_test_split\n",
    "from sklearn.impute import SimpleImputer\n",
    "\n",
    "from env import user, host, password\n",
    "from wrangle import get_connection, new_zillow_data, get_zillow_data"
   ]
  },
  {
   "cell_type": "markdown",
   "id": "d75db8c4",
   "metadata": {},
   "source": [
    "# Acquire"
   ]
  },
  {
   "cell_type": "code",
   "execution_count": 2,
   "id": "f31aa91e",
   "metadata": {},
   "outputs": [
    {
     "data": {
      "text/html": [
       "<div>\n",
       "<style scoped>\n",
       "    .dataframe tbody tr th:only-of-type {\n",
       "        vertical-align: middle;\n",
       "    }\n",
       "\n",
       "    .dataframe tbody tr th {\n",
       "        vertical-align: top;\n",
       "    }\n",
       "\n",
       "    .dataframe thead th {\n",
       "        text-align: right;\n",
       "    }\n",
       "</style>\n",
       "<table border=\"1\" class=\"dataframe\">\n",
       "  <thead>\n",
       "    <tr style=\"text-align: right;\">\n",
       "      <th></th>\n",
       "      <th>bedroomcnt</th>\n",
       "      <th>bathroomcnt</th>\n",
       "      <th>calculatedfinishedsquarefeet</th>\n",
       "      <th>taxvaluedollarcnt</th>\n",
       "      <th>yearbuilt</th>\n",
       "      <th>taxamount</th>\n",
       "      <th>fips</th>\n",
       "    </tr>\n",
       "  </thead>\n",
       "  <tbody>\n",
       "    <tr>\n",
       "      <th>0</th>\n",
       "      <td>0.0</td>\n",
       "      <td>0.0</td>\n",
       "      <td>NaN</td>\n",
       "      <td>27516.0</td>\n",
       "      <td>NaN</td>\n",
       "      <td>NaN</td>\n",
       "      <td>6037.0</td>\n",
       "    </tr>\n",
       "    <tr>\n",
       "      <th>1</th>\n",
       "      <td>0.0</td>\n",
       "      <td>0.0</td>\n",
       "      <td>NaN</td>\n",
       "      <td>10.0</td>\n",
       "      <td>NaN</td>\n",
       "      <td>NaN</td>\n",
       "      <td>6037.0</td>\n",
       "    </tr>\n",
       "    <tr>\n",
       "      <th>2</th>\n",
       "      <td>0.0</td>\n",
       "      <td>0.0</td>\n",
       "      <td>NaN</td>\n",
       "      <td>10.0</td>\n",
       "      <td>NaN</td>\n",
       "      <td>NaN</td>\n",
       "      <td>6037.0</td>\n",
       "    </tr>\n",
       "    <tr>\n",
       "      <th>3</th>\n",
       "      <td>0.0</td>\n",
       "      <td>0.0</td>\n",
       "      <td>NaN</td>\n",
       "      <td>2108.0</td>\n",
       "      <td>NaN</td>\n",
       "      <td>174.21</td>\n",
       "      <td>6037.0</td>\n",
       "    </tr>\n",
       "    <tr>\n",
       "      <th>4</th>\n",
       "      <td>4.0</td>\n",
       "      <td>2.0</td>\n",
       "      <td>3633.0</td>\n",
       "      <td>296425.0</td>\n",
       "      <td>2005.0</td>\n",
       "      <td>6941.39</td>\n",
       "      <td>6037.0</td>\n",
       "    </tr>\n",
       "  </tbody>\n",
       "</table>\n",
       "</div>"
      ],
      "text/plain": [
       "   bedroomcnt  bathroomcnt  calculatedfinishedsquarefeet  taxvaluedollarcnt  \\\n",
       "0         0.0          0.0                           NaN            27516.0   \n",
       "1         0.0          0.0                           NaN               10.0   \n",
       "2         0.0          0.0                           NaN               10.0   \n",
       "3         0.0          0.0                           NaN             2108.0   \n",
       "4         4.0          2.0                        3633.0           296425.0   \n",
       "\n",
       "   yearbuilt  taxamount    fips  \n",
       "0        NaN        NaN  6037.0  \n",
       "1        NaN        NaN  6037.0  \n",
       "2        NaN        NaN  6037.0  \n",
       "3        NaN     174.21  6037.0  \n",
       "4     2005.0    6941.39  6037.0  "
      ]
     },
     "execution_count": 2,
     "metadata": {},
     "output_type": "execute_result"
    }
   ],
   "source": [
    "df = get_zillow_data()\n",
    "df.head()"
   ]
  },
  {
   "cell_type": "code",
   "execution_count": 3,
   "id": "f9ea5662",
   "metadata": {},
   "outputs": [],
   "source": [
    "# Lets get shorter and easier to understand names\n",
    "df = df.rename(columns= {'bedroomcnt' : 'bedrooms', \n",
    "                         'bathroomcnt' : 'bathrooms', \n",
    "                         'calculatedfinishedsquarefeet' : 'area_sqft', \n",
    "                         'taxvaluedollarcnt' : 'tax_value', \n",
    "                         'yearbuilt' : 'year_built', \n",
    "                         'taxamount' : 'tax_amount'})"
   ]
  },
  {
   "cell_type": "code",
   "execution_count": 4,
   "id": "a1faedb8",
   "metadata": {},
   "outputs": [
    {
     "data": {
      "text/html": [
       "<div>\n",
       "<style scoped>\n",
       "    .dataframe tbody tr th:only-of-type {\n",
       "        vertical-align: middle;\n",
       "    }\n",
       "\n",
       "    .dataframe tbody tr th {\n",
       "        vertical-align: top;\n",
       "    }\n",
       "\n",
       "    .dataframe thead th {\n",
       "        text-align: right;\n",
       "    }\n",
       "</style>\n",
       "<table border=\"1\" class=\"dataframe\">\n",
       "  <thead>\n",
       "    <tr style=\"text-align: right;\">\n",
       "      <th></th>\n",
       "      <th>bedrooms</th>\n",
       "      <th>bathrooms</th>\n",
       "      <th>area_sqft</th>\n",
       "      <th>tax_value</th>\n",
       "      <th>year_built</th>\n",
       "      <th>tax_amount</th>\n",
       "      <th>fips</th>\n",
       "    </tr>\n",
       "  </thead>\n",
       "  <tbody>\n",
       "    <tr>\n",
       "      <th>0</th>\n",
       "      <td>0.0</td>\n",
       "      <td>0.0</td>\n",
       "      <td>NaN</td>\n",
       "      <td>27516.0</td>\n",
       "      <td>NaN</td>\n",
       "      <td>NaN</td>\n",
       "      <td>6037.0</td>\n",
       "    </tr>\n",
       "    <tr>\n",
       "      <th>1</th>\n",
       "      <td>0.0</td>\n",
       "      <td>0.0</td>\n",
       "      <td>NaN</td>\n",
       "      <td>10.0</td>\n",
       "      <td>NaN</td>\n",
       "      <td>NaN</td>\n",
       "      <td>6037.0</td>\n",
       "    </tr>\n",
       "    <tr>\n",
       "      <th>2</th>\n",
       "      <td>0.0</td>\n",
       "      <td>0.0</td>\n",
       "      <td>NaN</td>\n",
       "      <td>10.0</td>\n",
       "      <td>NaN</td>\n",
       "      <td>NaN</td>\n",
       "      <td>6037.0</td>\n",
       "    </tr>\n",
       "    <tr>\n",
       "      <th>3</th>\n",
       "      <td>0.0</td>\n",
       "      <td>0.0</td>\n",
       "      <td>NaN</td>\n",
       "      <td>2108.0</td>\n",
       "      <td>NaN</td>\n",
       "      <td>174.21</td>\n",
       "      <td>6037.0</td>\n",
       "    </tr>\n",
       "    <tr>\n",
       "      <th>4</th>\n",
       "      <td>4.0</td>\n",
       "      <td>2.0</td>\n",
       "      <td>3633.0</td>\n",
       "      <td>296425.0</td>\n",
       "      <td>2005.0</td>\n",
       "      <td>6941.39</td>\n",
       "      <td>6037.0</td>\n",
       "    </tr>\n",
       "  </tbody>\n",
       "</table>\n",
       "</div>"
      ],
      "text/plain": [
       "   bedrooms  bathrooms  area_sqft  tax_value  year_built  tax_amount    fips\n",
       "0       0.0        0.0        NaN    27516.0         NaN         NaN  6037.0\n",
       "1       0.0        0.0        NaN       10.0         NaN         NaN  6037.0\n",
       "2       0.0        0.0        NaN       10.0         NaN         NaN  6037.0\n",
       "3       0.0        0.0        NaN     2108.0         NaN      174.21  6037.0\n",
       "4       4.0        2.0     3633.0   296425.0      2005.0     6941.39  6037.0"
      ]
     },
     "execution_count": 4,
     "metadata": {},
     "output_type": "execute_result"
    }
   ],
   "source": [
    "# Checking the renamed columns\n",
    "df.head()"
   ]
  },
  {
   "cell_type": "code",
   "execution_count": 5,
   "id": "eccd8c7f",
   "metadata": {},
   "outputs": [
    {
     "data": {
      "text/plain": [
       "(2152863, 7)"
      ]
     },
     "execution_count": 5,
     "metadata": {},
     "output_type": "execute_result"
    }
   ],
   "source": [
    "df.shape"
   ]
  },
  {
   "cell_type": "code",
   "execution_count": 6,
   "id": "070d8ff6",
   "metadata": {},
   "outputs": [
    {
     "name": "stdout",
     "output_type": "stream",
     "text": [
      "<class 'pandas.core.frame.DataFrame'>\n",
      "Int64Index: 2152863 entries, 0 to 2152862\n",
      "Data columns (total 7 columns):\n",
      " #   Column      Dtype  \n",
      "---  ------      -----  \n",
      " 0   bedrooms    float64\n",
      " 1   bathrooms   float64\n",
      " 2   area_sqft   float64\n",
      " 3   tax_value   float64\n",
      " 4   year_built  float64\n",
      " 5   tax_amount  float64\n",
      " 6   fips        float64\n",
      "dtypes: float64(7)\n",
      "memory usage: 131.4 MB\n"
     ]
    }
   ],
   "source": [
    "df.info()"
   ]
  },
  {
   "cell_type": "code",
   "execution_count": 7,
   "id": "03aa8092",
   "metadata": {
    "scrolled": true
   },
   "outputs": [
    {
     "data": {
      "text/html": [
       "<div>\n",
       "<style scoped>\n",
       "    .dataframe tbody tr th:only-of-type {\n",
       "        vertical-align: middle;\n",
       "    }\n",
       "\n",
       "    .dataframe tbody tr th {\n",
       "        vertical-align: top;\n",
       "    }\n",
       "\n",
       "    .dataframe thead th {\n",
       "        text-align: right;\n",
       "    }\n",
       "</style>\n",
       "<table border=\"1\" class=\"dataframe\">\n",
       "  <thead>\n",
       "    <tr style=\"text-align: right;\">\n",
       "      <th></th>\n",
       "      <th>count</th>\n",
       "      <th>mean</th>\n",
       "      <th>std</th>\n",
       "      <th>min</th>\n",
       "      <th>25%</th>\n",
       "      <th>50%</th>\n",
       "      <th>75%</th>\n",
       "      <th>max</th>\n",
       "    </tr>\n",
       "  </thead>\n",
       "  <tbody>\n",
       "    <tr>\n",
       "      <th>bedrooms</th>\n",
       "      <td>2152852.0</td>\n",
       "      <td>3.287196</td>\n",
       "      <td>0.954754</td>\n",
       "      <td>0.00</td>\n",
       "      <td>3.00</td>\n",
       "      <td>3.00</td>\n",
       "      <td>4.00</td>\n",
       "      <td>25.00</td>\n",
       "    </tr>\n",
       "    <tr>\n",
       "      <th>bathrooms</th>\n",
       "      <td>2152852.0</td>\n",
       "      <td>2.230688</td>\n",
       "      <td>0.999280</td>\n",
       "      <td>0.00</td>\n",
       "      <td>2.00</td>\n",
       "      <td>2.00</td>\n",
       "      <td>3.00</td>\n",
       "      <td>32.00</td>\n",
       "    </tr>\n",
       "    <tr>\n",
       "      <th>area_sqft</th>\n",
       "      <td>2144379.0</td>\n",
       "      <td>1862.855178</td>\n",
       "      <td>1222.125124</td>\n",
       "      <td>1.00</td>\n",
       "      <td>1257.00</td>\n",
       "      <td>1623.00</td>\n",
       "      <td>2208.00</td>\n",
       "      <td>952576.00</td>\n",
       "    </tr>\n",
       "    <tr>\n",
       "      <th>tax_value</th>\n",
       "      <td>2152370.0</td>\n",
       "      <td>461896.237963</td>\n",
       "      <td>699676.049600</td>\n",
       "      <td>1.00</td>\n",
       "      <td>188170.25</td>\n",
       "      <td>327671.00</td>\n",
       "      <td>534527.00</td>\n",
       "      <td>98428909.00</td>\n",
       "    </tr>\n",
       "    <tr>\n",
       "      <th>year_built</th>\n",
       "      <td>2143526.0</td>\n",
       "      <td>1960.949681</td>\n",
       "      <td>22.162196</td>\n",
       "      <td>1801.00</td>\n",
       "      <td>1949.00</td>\n",
       "      <td>1958.00</td>\n",
       "      <td>1976.00</td>\n",
       "      <td>2016.00</td>\n",
       "    </tr>\n",
       "    <tr>\n",
       "      <th>tax_amount</th>\n",
       "      <td>2148421.0</td>\n",
       "      <td>5634.865978</td>\n",
       "      <td>8178.910249</td>\n",
       "      <td>1.85</td>\n",
       "      <td>2534.98</td>\n",
       "      <td>4108.95</td>\n",
       "      <td>6414.32</td>\n",
       "      <td>1337755.86</td>\n",
       "    </tr>\n",
       "    <tr>\n",
       "      <th>fips</th>\n",
       "      <td>2152863.0</td>\n",
       "      <td>6048.377335</td>\n",
       "      <td>20.433292</td>\n",
       "      <td>6037.00</td>\n",
       "      <td>6037.00</td>\n",
       "      <td>6037.00</td>\n",
       "      <td>6059.00</td>\n",
       "      <td>6111.00</td>\n",
       "    </tr>\n",
       "  </tbody>\n",
       "</table>\n",
       "</div>"
      ],
      "text/plain": [
       "                count           mean            std      min        25%  \\\n",
       "bedrooms    2152852.0       3.287196       0.954754     0.00       3.00   \n",
       "bathrooms   2152852.0       2.230688       0.999280     0.00       2.00   \n",
       "area_sqft   2144379.0    1862.855178    1222.125124     1.00    1257.00   \n",
       "tax_value   2152370.0  461896.237963  699676.049600     1.00  188170.25   \n",
       "year_built  2143526.0    1960.949681      22.162196  1801.00    1949.00   \n",
       "tax_amount  2148421.0    5634.865978    8178.910249     1.85    2534.98   \n",
       "fips        2152863.0    6048.377335      20.433292  6037.00    6037.00   \n",
       "\n",
       "                  50%        75%          max  \n",
       "bedrooms         3.00       4.00        25.00  \n",
       "bathrooms        2.00       3.00        32.00  \n",
       "area_sqft     1623.00    2208.00    952576.00  \n",
       "tax_value   327671.00  534527.00  98428909.00  \n",
       "year_built    1958.00    1976.00      2016.00  \n",
       "tax_amount    4108.95    6414.32   1337755.86  \n",
       "fips          6037.00    6059.00      6111.00  "
      ]
     },
     "execution_count": 7,
     "metadata": {},
     "output_type": "execute_result"
    }
   ],
   "source": [
    "df.describe().T"
   ]
  },
  {
   "cell_type": "code",
   "execution_count": 8,
   "id": "5f9c1000",
   "metadata": {},
   "outputs": [
    {
     "data": {
      "text/plain": [
       "bedrooms        11\n",
       "bathrooms       11\n",
       "area_sqft     8484\n",
       "tax_value      493\n",
       "year_built    9337\n",
       "tax_amount    4442\n",
       "fips             0\n",
       "dtype: int64"
      ]
     },
     "execution_count": 8,
     "metadata": {},
     "output_type": "execute_result"
    }
   ],
   "source": [
    "df.isna().sum()\n",
    "\n",
    "# Get a boolean telling you if there are nulls in a column\n",
    "# df.isnull().any()\n",
    "\n",
    "# Get list of column names that have nulls\n",
    "# df.columns[df.isnull().any()]"
   ]
  },
  {
   "cell_type": "code",
   "execution_count": 9,
   "id": "656f12d5",
   "metadata": {
    "scrolled": true
   },
   "outputs": [
    {
     "data": {
      "text/plain": [
       "array([[<AxesSubplot:title={'center':'bedrooms'}>,\n",
       "        <AxesSubplot:title={'center':'bathrooms'}>,\n",
       "        <AxesSubplot:title={'center':'area_sqft'}>],\n",
       "       [<AxesSubplot:title={'center':'tax_value'}>,\n",
       "        <AxesSubplot:title={'center':'year_built'}>,\n",
       "        <AxesSubplot:title={'center':'tax_amount'}>],\n",
       "       [<AxesSubplot:title={'center':'fips'}>, <AxesSubplot:>,\n",
       "        <AxesSubplot:>]], dtype=object)"
      ]
     },
     "execution_count": 9,
     "metadata": {},
     "output_type": "execute_result"
    },
    {
     "data": {
      "image/png": "[encoded data removed]",
      "text/plain": [
       "<Figure size 432x288 with 9 Axes>"
      ]
     },
     "metadata": {
      "needs_background": "light"
     },
     "output_type": "display_data"
    }
   ],
   "source": [
    "df.hist()"
   ]
  },
  {
   "cell_type": "code",
   "execution_count": 10,
   "id": "bbb9cbed",
   "metadata": {},
   "outputs": [
    {
     "data": {
      "image/png": "[encoded data removed]",
      "text/plain": [
       "<Figure size 1152x216 with 5 Axes>"
      ]
     },
     "metadata": {
      "needs_background": "light"
     },
     "output_type": "display_data"
    }
   ],
   "source": [
    "# Make a nicer histogram than the previous histplot\n",
    "plt.figure(figsize=(16, 3))\n",
    "\n",
    "# List of columns\n",
    "#cols = ['bedroomcnt', 'bathroomcnt', 'calculatedfinishedsquarefeet', \n",
    "#       'taxvaluedollarcnt', 'yearbuilt', 'taxamount', 'fips']\n",
    "cols = [col for col in df.columns if col not in ['fips', 'year_built']]\n",
    "\n",
    "for i, col in enumerate(cols):\n",
    "    \n",
    "    # Plot number should start at 1, but i starts at 0\n",
    "    plot_number = i + 1\n",
    "    \n",
    "    # Create subplots\n",
    "    plt.subplot(1, len(cols), plot_number)\n",
    "    \n",
    "    # Add a title to the subplots\n",
    "    plt.title(col)\n",
    "    \n",
    "    # Make a histogram for each column\n",
    "    df[col].hist(bins=5)\n",
    "    # df.col.hist(bins=5)   for some reason this alternative line gets an error\n",
    "    \n",
    "    # Hide the grids in the subplots\n",
    "    plt.grid(False)\n",
    "    \n",
    "plt.show()"
   ]
  },
  {
   "cell_type": "code",
   "execution_count": 11,
   "id": "2e44e589",
   "metadata": {},
   "outputs": [
    {
     "data": {
      "text/plain": [
       "<AxesSubplot:>"
      ]
     },
     "execution_count": 11,
     "metadata": {},
     "output_type": "execute_result"
    },
    {
     "data": {
      "image/png": "[encoded data removed]",
      "text/plain": [
       "<Figure size 1008x288 with 1 Axes>"
      ]
     },
     "metadata": {
      "needs_background": "light"
     },
     "output_type": "display_data"
    }
   ],
   "source": [
    "plt.figure(figsize=(14,4))\n",
    "sns.boxplot(data=df.drop(columns='fips'))"
   ]
  },
  {
   "cell_type": "code",
   "execution_count": 12,
   "id": "12591950",
   "metadata": {},
   "outputs": [
    {
     "data": {
      "image/png": "[encoded data removed]",
      "text/plain": [
       "<Figure size 1152x216 with 7 Axes>"
      ]
     },
     "metadata": {
      "needs_background": "light"
     },
     "output_type": "display_data"
    }
   ],
   "source": [
    "# Make a nicer boxplot than the previous boxplot\n",
    "plt.figure(figsize=(16, 3))\n",
    "\n",
    "# List of columns\n",
    "#cols = ['bedroomcnt', 'bathroomcnt', 'calculatedfinishedsquarefeet', \n",
    "#       'taxvaluedollarcnt', 'yearbuilt', 'taxamount', 'fips']\n",
    "\n",
    "#cols = [col for col in df.columns if col not in ['fips', 'year_built']]\n",
    "cols = df.columns\n",
    "\n",
    "for i, col in enumerate(cols):\n",
    "    \n",
    "    # Plot number should start at 1, but i starts at 0\n",
    "    plot_number = i + 1\n",
    "    \n",
    "    # Create subplots\n",
    "    plt.subplot(1, len(cols), plot_number)\n",
    "    \n",
    "    # Add a title to the subplots\n",
    "    plt.title(col)\n",
    "    \n",
    "    # Make a histogram for each column\n",
    "    sns.boxplot(data = df[[col]])\n",
    "    \n",
    "    # Hide the grids in the subplots\n",
    "    plt.grid(False)\n",
    "    \n",
    "#plt.show()\n",
    "plt.tight_layout()\n",
    "# Some of my plots are shaped differently than John's, \n",
    "# perhaps because of my method of acquiring?"
   ]
  },
  {
   "cell_type": "markdown",
   "id": "147feb9d",
   "metadata": {},
   "source": [
    "### Takeaways for Acquire <br>\n",
    "- All columns are float64 <br>\n",
    "- Only taxamount and bathroomcnt need to be float, the rest can be int <br>\n",
    "- Lots of null values in most columns <br>\n",
    "- Some columns have a huge range of values <br>\n",
    "- Some columns have extreme outliers <br>\n",
    "- Some columns do not have a normal distribution"
   ]
  },
  {
   "cell_type": "markdown",
   "id": "4ad2c593",
   "metadata": {},
   "source": [
    "# Prepare"
   ]
  },
  {
   "cell_type": "code",
   "execution_count": 13,
   "id": "17375901",
   "metadata": {},
   "outputs": [
    {
     "data": {
      "text/plain": [
       "bedrooms        11\n",
       "bathrooms       11\n",
       "area_sqft     8484\n",
       "tax_value      493\n",
       "year_built    9337\n",
       "tax_amount    4442\n",
       "fips             0\n",
       "dtype: int64"
      ]
     },
     "execution_count": 13,
     "metadata": {},
     "output_type": "execute_result"
    }
   ],
   "source": [
    "# Check for nulls again\n",
    "df.isnull().sum()\n",
    "# I will impute the null values later"
   ]
  },
  {
   "cell_type": "code",
   "execution_count": 30,
   "id": "8968d56f",
   "metadata": {},
   "outputs": [
    {
     "data": {
      "text/plain": [
       "bedrooms         0\n",
       "bathrooms        0\n",
       "area_sqft      175\n",
       "tax_value      102\n",
       "year_built    1127\n",
       "fips             0\n",
       "dtype: int64"
      ]
     },
     "execution_count": 30,
     "metadata": {},
     "output_type": "execute_result"
    }
   ],
   "source": [
    "# Nulls are rare for bedrooms and bathrooms\n",
    "# Nulls may not appear in train after splitting\n",
    "# Thus, I am dropping nulls for bedroom and bathroom now\n",
    "df.bedrooms.dropna()\n",
    "df.bathrooms.dropna()\n",
    "df.isnull().sum()"
   ]
  },
  {
   "cell_type": "code",
   "execution_count": 15,
   "id": "924760ff",
   "metadata": {},
   "outputs": [],
   "source": [
    "# Replace a whitespace sequence or empty with a NaN value \n",
    "# and reassign this manipulation to df.\n",
    "df = df.replace(r'^\\s*$', np.nan, regex=True)"
   ]
  },
  {
   "cell_type": "code",
   "execution_count": 16,
   "id": "caf4b04f",
   "metadata": {},
   "outputs": [],
   "source": [
    "def remove_outliers(df, k, col_list):\n",
    "    '''\n",
    "    Remove outliers from a list of columns.\n",
    "    '''\n",
    "    for col in col_list:\n",
    "        # Get quartiles\n",
    "        q1, q3 = df[col].quantile([.25, .75])\n",
    "        \n",
    "        # Get interquartile range\n",
    "        iqr = q3 - q1\n",
    "        \n",
    "        upper_bound = q3 + k * iqr\n",
    "        lower_bound = q1 - k * iqr\n",
    "        \n",
    "        # Return the dataframe without the outliers\n",
    "        df = df[(df[col] > lower_bound) & (df[col] < upper_bound)]\n",
    "        \n",
    "        return df"
   ]
  },
  {
   "cell_type": "code",
   "execution_count": 17,
   "id": "0fe3f74f",
   "metadata": {},
   "outputs": [
    {
     "data": {
      "text/html": [
       "<div>\n",
       "<style scoped>\n",
       "    .dataframe tbody tr th:only-of-type {\n",
       "        vertical-align: middle;\n",
       "    }\n",
       "\n",
       "    .dataframe tbody tr th {\n",
       "        vertical-align: top;\n",
       "    }\n",
       "\n",
       "    .dataframe thead th {\n",
       "        text-align: right;\n",
       "    }\n",
       "</style>\n",
       "<table border=\"1\" class=\"dataframe\">\n",
       "  <thead>\n",
       "    <tr style=\"text-align: right;\">\n",
       "      <th></th>\n",
       "      <th>bedrooms</th>\n",
       "      <th>bathrooms</th>\n",
       "      <th>area_sqft</th>\n",
       "      <th>tax_value</th>\n",
       "      <th>year_built</th>\n",
       "      <th>tax_amount</th>\n",
       "      <th>fips</th>\n",
       "    </tr>\n",
       "  </thead>\n",
       "  <tbody>\n",
       "    <tr>\n",
       "      <th>4</th>\n",
       "      <td>4.0</td>\n",
       "      <td>2.0</td>\n",
       "      <td>3633.0</td>\n",
       "      <td>296425.0</td>\n",
       "      <td>2005.0</td>\n",
       "      <td>6941.39</td>\n",
       "      <td>6037.0</td>\n",
       "    </tr>\n",
       "    <tr>\n",
       "      <th>6</th>\n",
       "      <td>3.0</td>\n",
       "      <td>4.0</td>\n",
       "      <td>1620.0</td>\n",
       "      <td>847770.0</td>\n",
       "      <td>2011.0</td>\n",
       "      <td>10244.94</td>\n",
       "      <td>6037.0</td>\n",
       "    </tr>\n",
       "    <tr>\n",
       "      <th>7</th>\n",
       "      <td>3.0</td>\n",
       "      <td>2.0</td>\n",
       "      <td>2077.0</td>\n",
       "      <td>646760.0</td>\n",
       "      <td>1926.0</td>\n",
       "      <td>7924.68</td>\n",
       "      <td>6037.0</td>\n",
       "    </tr>\n",
       "    <tr>\n",
       "      <th>18</th>\n",
       "      <td>3.0</td>\n",
       "      <td>1.0</td>\n",
       "      <td>1244.0</td>\n",
       "      <td>169471.0</td>\n",
       "      <td>1950.0</td>\n",
       "      <td>2532.88</td>\n",
       "      <td>6037.0</td>\n",
       "    </tr>\n",
       "    <tr>\n",
       "      <th>19</th>\n",
       "      <td>3.0</td>\n",
       "      <td>2.0</td>\n",
       "      <td>1300.0</td>\n",
       "      <td>233266.0</td>\n",
       "      <td>1950.0</td>\n",
       "      <td>3110.99</td>\n",
       "      <td>6037.0</td>\n",
       "    </tr>\n",
       "    <tr>\n",
       "      <th>...</th>\n",
       "      <td>...</td>\n",
       "      <td>...</td>\n",
       "      <td>...</td>\n",
       "      <td>...</td>\n",
       "      <td>...</td>\n",
       "      <td>...</td>\n",
       "      <td>...</td>\n",
       "    </tr>\n",
       "    <tr>\n",
       "      <th>2152856</th>\n",
       "      <td>4.0</td>\n",
       "      <td>4.0</td>\n",
       "      <td>4375.0</td>\n",
       "      <td>422400.0</td>\n",
       "      <td>2015.0</td>\n",
       "      <td>13877.56</td>\n",
       "      <td>6037.0</td>\n",
       "    </tr>\n",
       "    <tr>\n",
       "      <th>2152858</th>\n",
       "      <td>4.0</td>\n",
       "      <td>3.0</td>\n",
       "      <td>2262.0</td>\n",
       "      <td>960756.0</td>\n",
       "      <td>2015.0</td>\n",
       "      <td>13494.52</td>\n",
       "      <td>6059.0</td>\n",
       "    </tr>\n",
       "    <tr>\n",
       "      <th>2152859</th>\n",
       "      <td>4.0</td>\n",
       "      <td>4.5</td>\n",
       "      <td>3127.0</td>\n",
       "      <td>536061.0</td>\n",
       "      <td>2014.0</td>\n",
       "      <td>6244.16</td>\n",
       "      <td>6059.0</td>\n",
       "    </tr>\n",
       "    <tr>\n",
       "      <th>2152861</th>\n",
       "      <td>3.0</td>\n",
       "      <td>2.5</td>\n",
       "      <td>1974.0</td>\n",
       "      <td>424353.0</td>\n",
       "      <td>2015.0</td>\n",
       "      <td>5302.70</td>\n",
       "      <td>6059.0</td>\n",
       "    </tr>\n",
       "    <tr>\n",
       "      <th>2152862</th>\n",
       "      <td>4.0</td>\n",
       "      <td>4.0</td>\n",
       "      <td>2110.0</td>\n",
       "      <td>554009.0</td>\n",
       "      <td>2014.0</td>\n",
       "      <td>6761.20</td>\n",
       "      <td>6037.0</td>\n",
       "    </tr>\n",
       "  </tbody>\n",
       "</table>\n",
       "<p>2084926 rows × 7 columns</p>\n",
       "</div>"
      ],
      "text/plain": [
       "         bedrooms  bathrooms  area_sqft  tax_value  year_built  tax_amount  \\\n",
       "4             4.0        2.0     3633.0   296425.0      2005.0     6941.39   \n",
       "6             3.0        4.0     1620.0   847770.0      2011.0    10244.94   \n",
       "7             3.0        2.0     2077.0   646760.0      1926.0     7924.68   \n",
       "18            3.0        1.0     1244.0   169471.0      1950.0     2532.88   \n",
       "19            3.0        2.0     1300.0   233266.0      1950.0     3110.99   \n",
       "...           ...        ...        ...        ...         ...         ...   \n",
       "2152856       4.0        4.0     4375.0   422400.0      2015.0    13877.56   \n",
       "2152858       4.0        3.0     2262.0   960756.0      2015.0    13494.52   \n",
       "2152859       4.0        4.5     3127.0   536061.0      2014.0     6244.16   \n",
       "2152861       3.0        2.5     1974.0   424353.0      2015.0     5302.70   \n",
       "2152862       4.0        4.0     2110.0   554009.0      2014.0     6761.20   \n",
       "\n",
       "           fips  \n",
       "4        6037.0  \n",
       "6        6037.0  \n",
       "7        6037.0  \n",
       "18       6037.0  \n",
       "19       6037.0  \n",
       "...         ...  \n",
       "2152856  6037.0  \n",
       "2152858  6059.0  \n",
       "2152859  6059.0  \n",
       "2152861  6059.0  \n",
       "2152862  6037.0  \n",
       "\n",
       "[2084926 rows x 7 columns]"
      ]
     },
     "execution_count": 17,
     "metadata": {},
     "output_type": "execute_result"
    }
   ],
   "source": [
    "df = remove_outliers(df, 1.5, df.columns)\n",
    "df"
   ]
  },
  {
   "cell_type": "code",
   "execution_count": 18,
   "id": "9cb43a7d",
   "metadata": {},
   "outputs": [
    {
     "name": "stdout",
     "output_type": "stream",
     "text": [
      "BEDROOMS\n",
      "3.0    964298\n",
      "4.0    634289\n",
      "2.0    335473\n",
      "5.0    150866\n",
      "Name: bedrooms, dtype: int64\n",
      "XXXXXXXXXXXXXXXXXXXXXXXXXXXXXXXXXXXXXXXXXXX\n",
      "\n",
      "BATHROOMS\n",
      "2.00     939718\n",
      "3.00     415076\n",
      "1.00     392834\n",
      "2.50     142409\n",
      "4.00      75115\n",
      "1.50      31019\n",
      "3.50      27787\n",
      "5.00      24243\n",
      "4.50      18544\n",
      "6.00       7992\n",
      "5.50       5497\n",
      "7.00       2257\n",
      "0.00        772\n",
      "6.50        699\n",
      "8.00        556\n",
      "7.50        152\n",
      "9.00        139\n",
      "10.00        47\n",
      "8.50         28\n",
      "11.00        12\n",
      "0.50          7\n",
      "13.00         6\n",
      "1.75          3\n",
      "12.00         3\n",
      "9.50          2\n",
      "14.00         2\n",
      "16.00         2\n",
      "20.00         2\n",
      "18.00         2\n",
      "15.00         1\n",
      "Name: bathrooms, dtype: int64\n",
      "XXXXXXXXXXXXXXXXXXXXXXXXXXXXXXXXXXXXXXXXXXX\n",
      "\n",
      "AREA_SQFT\n",
      "1200.0     5142\n",
      "1080.0     4349\n",
      "1120.0     4322\n",
      "1400.0     3825\n",
      "1440.0     3668\n",
      "           ... \n",
      "7818.0        1\n",
      "9923.0        1\n",
      "9721.0        1\n",
      "12234.0       1\n",
      "8655.0        1\n",
      "Name: area_sqft, Length: 8710, dtype: int64\n",
      "XXXXXXXXXXXXXXXXXXXXXXXXXXXXXXXXXXXXXXXXXXX\n",
      "\n",
      "TAX_VALUE\n",
      "450000.0     814\n",
      "500000.0     765\n",
      "400000.0     706\n",
      "430000.0     680\n",
      "475000.0     675\n",
      "            ... \n",
      "680822.0       1\n",
      "358936.0       1\n",
      "497489.0       1\n",
      "46608.0        1\n",
      "1436013.0      1\n",
      "Name: tax_value, Length: 572499, dtype: int64\n",
      "XXXXXXXXXXXXXXXXXXXXXXXXXXXXXXXXXXXXXXXXXXX\n",
      "\n",
      "YEAR_BUILT\n",
      "1955.0    83340\n",
      "1950.0    70530\n",
      "1954.0    68176\n",
      "1953.0    61476\n",
      "1956.0    61096\n",
      "          ...  \n",
      "1855.0        1\n",
      "1862.0        1\n",
      "1877.0        1\n",
      "1840.0        1\n",
      "1823.0        1\n",
      "Name: year_built, Length: 153, dtype: int64\n",
      "XXXXXXXXXXXXXXXXXXXXXXXXXXXXXXXXXXXXXXXXXXX\n",
      "\n",
      "TAX_AMOUNT\n",
      "345.72      165\n",
      "344.18       75\n",
      "343.52       69\n",
      "49.18        45\n",
      "388.18       38\n",
      "           ... \n",
      "10907.29      1\n",
      "9527.23       1\n",
      "21581.72      1\n",
      "4793.00       1\n",
      "93164.54      1\n",
      "Name: tax_amount, Length: 894785, dtype: int64\n",
      "XXXXXXXXXXXXXXXXXXXXXXXXXXXXXXXXXXXXXXXXXXX\n",
      "\n",
      "FIPS\n",
      "6037.0    1384779\n",
      "6059.0     539497\n",
      "6111.0     160650\n",
      "Name: fips, dtype: int64\n",
      "XXXXXXXXXXXXXXXXXXXXXXXXXXXXXXXXXXXXXXXXXXX\n",
      "\n"
     ]
    }
   ],
   "source": [
    "# Get the value_counts\n",
    "cols = df.columns\n",
    "for col in cols:\n",
    "    print(col.upper())\n",
    "    #print(df.col.value_counts())   For some reason this also gives an error\n",
    "    print(df[col].value_counts())\n",
    "    print('XXXXXXXXXXXXXXXXXXXXXXXXXXXXXXXXXXXXXXXXXXX')\n",
    "    print()"
   ]
  },
  {
   "cell_type": "code",
   "execution_count": 19,
   "id": "0599de1f",
   "metadata": {
    "scrolled": true
   },
   "outputs": [
    {
     "name": "stdout",
     "output_type": "stream",
     "text": [
      "<class 'pandas.core.frame.DataFrame'>\n",
      "Int64Index: 2084926 entries, 4 to 2152862\n",
      "Data columns (total 7 columns):\n",
      " #   Column      Dtype  \n",
      "---  ------      -----  \n",
      " 0   bedrooms    float64\n",
      " 1   bathrooms   float64\n",
      " 2   area_sqft   float64\n",
      " 3   tax_value   float64\n",
      " 4   year_built  object \n",
      " 5   tax_amount  float64\n",
      " 6   fips        object \n",
      "dtypes: float64(5), object(2)\n",
      "memory usage: 127.3+ MB\n"
     ]
    }
   ],
   "source": [
    "# fips appears to be a categorical number (i.e. like a zip code)\n",
    "# year_built may also be categorical if we aren't looking at age\n",
    "df.fips = df.fips.astype(object)\n",
    "df.year_built = df.year_built.astype(object)\n",
    "df.info()"
   ]
  },
  {
   "cell_type": "markdown",
   "id": "466fad4a",
   "metadata": {},
   "source": [
    "# Do my columns leak data from the target column? <br>\n",
    "- Taxamount can't be calculated unless we have knowledge of tax value <br>\n",
    "- Taxamount is a function of tax value <br>\n",
    "- I am dropping tax_amount from the dataframe"
   ]
  },
  {
   "cell_type": "code",
   "execution_count": 20,
   "id": "3f29bd7c",
   "metadata": {},
   "outputs": [
    {
     "data": {
      "text/html": [
       "<div>\n",
       "<style scoped>\n",
       "    .dataframe tbody tr th:only-of-type {\n",
       "        vertical-align: middle;\n",
       "    }\n",
       "\n",
       "    .dataframe tbody tr th {\n",
       "        vertical-align: top;\n",
       "    }\n",
       "\n",
       "    .dataframe thead th {\n",
       "        text-align: right;\n",
       "    }\n",
       "</style>\n",
       "<table border=\"1\" class=\"dataframe\">\n",
       "  <thead>\n",
       "    <tr style=\"text-align: right;\">\n",
       "      <th></th>\n",
       "      <th>bedrooms</th>\n",
       "      <th>bathrooms</th>\n",
       "      <th>area_sqft</th>\n",
       "      <th>tax_value</th>\n",
       "      <th>year_built</th>\n",
       "      <th>fips</th>\n",
       "    </tr>\n",
       "  </thead>\n",
       "  <tbody>\n",
       "    <tr>\n",
       "      <th>4</th>\n",
       "      <td>4.0</td>\n",
       "      <td>2.0</td>\n",
       "      <td>3633.0</td>\n",
       "      <td>296425.0</td>\n",
       "      <td>2005.0</td>\n",
       "      <td>6037.0</td>\n",
       "    </tr>\n",
       "    <tr>\n",
       "      <th>6</th>\n",
       "      <td>3.0</td>\n",
       "      <td>4.0</td>\n",
       "      <td>1620.0</td>\n",
       "      <td>847770.0</td>\n",
       "      <td>2011.0</td>\n",
       "      <td>6037.0</td>\n",
       "    </tr>\n",
       "    <tr>\n",
       "      <th>7</th>\n",
       "      <td>3.0</td>\n",
       "      <td>2.0</td>\n",
       "      <td>2077.0</td>\n",
       "      <td>646760.0</td>\n",
       "      <td>1926.0</td>\n",
       "      <td>6037.0</td>\n",
       "    </tr>\n",
       "    <tr>\n",
       "      <th>18</th>\n",
       "      <td>3.0</td>\n",
       "      <td>1.0</td>\n",
       "      <td>1244.0</td>\n",
       "      <td>169471.0</td>\n",
       "      <td>1950.0</td>\n",
       "      <td>6037.0</td>\n",
       "    </tr>\n",
       "    <tr>\n",
       "      <th>19</th>\n",
       "      <td>3.0</td>\n",
       "      <td>2.0</td>\n",
       "      <td>1300.0</td>\n",
       "      <td>233266.0</td>\n",
       "      <td>1950.0</td>\n",
       "      <td>6037.0</td>\n",
       "    </tr>\n",
       "  </tbody>\n",
       "</table>\n",
       "</div>"
      ],
      "text/plain": [
       "    bedrooms  bathrooms  area_sqft  tax_value year_built    fips\n",
       "4        4.0        2.0     3633.0   296425.0     2005.0  6037.0\n",
       "6        3.0        4.0     1620.0   847770.0     2011.0  6037.0\n",
       "7        3.0        2.0     2077.0   646760.0     1926.0  6037.0\n",
       "18       3.0        1.0     1244.0   169471.0     1950.0  6037.0\n",
       "19       3.0        2.0     1300.0   233266.0     1950.0  6037.0"
      ]
     },
     "execution_count": 20,
     "metadata": {},
     "output_type": "execute_result"
    }
   ],
   "source": [
    "df = df.drop(columns='tax_amount')\n",
    "df.head()"
   ]
  },
  {
   "cell_type": "markdown",
   "id": "979c0e86",
   "metadata": {},
   "source": [
    "# Split the data"
   ]
  },
  {
   "cell_type": "code",
   "execution_count": 22,
   "id": "aafe4ee3",
   "metadata": {},
   "outputs": [
    {
     "data": {
      "text/plain": [
       "((1459448, 6), (625478, 6), (416986, 6))"
      ]
     },
     "execution_count": 22,
     "metadata": {},
     "output_type": "execute_result"
    }
   ],
   "source": [
    "train_validate, test = train_test_split(df, test_size=.2, random_state=123)\n",
    "train, validate = train_test_split(df, test_size=.3, random_state=123)\n",
    "train.shape, validate.shape, test.shape"
   ]
  },
  {
   "cell_type": "markdown",
   "id": "4fd78e7f",
   "metadata": {},
   "source": [
    "# Impute year_built with mode"
   ]
  },
  {
   "cell_type": "code",
   "execution_count": 34,
   "id": "b9bcc9d5",
   "metadata": {},
   "outputs": [],
   "source": [
    "# Need to fill nulls for: year_built, area_sqft, tax_value\n",
    "\n",
    "# Create -> Fit -> Use\n",
    "# Create the object\n",
    "imputer_year = SimpleImputer(strategy='most_frequent')\n",
    "\n",
    "# Fit the object to train\n",
    "imputer_year.fit(train[['year_built']])\n",
    "\n",
    "# Use the object to impute on train, validate, and test subsets\n",
    "train[['year_built']]=imputer_year.transform(train[['year_built']])\n",
    "validate[['year_built']]=imputer_year.transform(validate[['year_built']])\n",
    "test[['year_built']]=imputer_year.transform(test[['year_built']])\n",
    "\n",
    "# Now repeat the imputing process for area_sqft\n",
    "imputer_area = SimpleImputer(strategy='median')\n",
    "imputer_area.fit(train[['area_sqft']])\n",
    "\n",
    "train[['area_sqft']]=imputer_area.transform(train[['area_sqft']])\n",
    "validate[['area_sqft']]=imputer_area.transform(validate[['area_sqft']])\n",
    "test[['area_sqft']]=imputer_area.transform(test[['area_sqft']])\n",
    "\n",
    "# Now repeat the imputing process for tax_value\n",
    "imputer_tax = SimpleImputer(strategy='median')\n",
    "imputer_tax.fit(train[['tax_value']])\n",
    "\n",
    "train[['tax_value']]=imputer_tax.transform(train[['tax_value']])\n",
    "validate[['tax_value']]=imputer_tax.transform(validate[['tax_value']])\n",
    "test[['tax_value']]=imputer_tax.transform(test[['tax_value']])"
   ]
  },
  {
   "cell_type": "code",
   "execution_count": 35,
   "id": "32ff9f23",
   "metadata": {},
   "outputs": [
    {
     "data": {
      "text/plain": [
       "bedrooms      0\n",
       "bathrooms     0\n",
       "area_sqft     0\n",
       "tax_value     0\n",
       "year_built    0\n",
       "fips          0\n",
       "dtype: int64"
      ]
     },
     "execution_count": 35,
     "metadata": {},
     "output_type": "execute_result"
    }
   ],
   "source": [
    "# Verify that all null values have been filled\n",
    "train.isnull().sum()"
   ]
  },
  {
   "cell_type": "code",
   "execution_count": 36,
   "id": "c2681d48",
   "metadata": {},
   "outputs": [
    {
     "data": {
      "text/html": [
       "<div>\n",
       "<style scoped>\n",
       "    .dataframe tbody tr th:only-of-type {\n",
       "        vertical-align: middle;\n",
       "    }\n",
       "\n",
       "    .dataframe tbody tr th {\n",
       "        vertical-align: top;\n",
       "    }\n",
       "\n",
       "    .dataframe thead th {\n",
       "        text-align: right;\n",
       "    }\n",
       "</style>\n",
       "<table border=\"1\" class=\"dataframe\">\n",
       "  <thead>\n",
       "    <tr style=\"text-align: right;\">\n",
       "      <th></th>\n",
       "      <th>bedrooms</th>\n",
       "      <th>bathrooms</th>\n",
       "      <th>area_sqft</th>\n",
       "      <th>tax_value</th>\n",
       "      <th>year_built</th>\n",
       "      <th>fips</th>\n",
       "    </tr>\n",
       "  </thead>\n",
       "  <tbody>\n",
       "    <tr>\n",
       "      <th>1979346</th>\n",
       "      <td>4.0</td>\n",
       "      <td>2.5</td>\n",
       "      <td>2068.0</td>\n",
       "      <td>492072.0</td>\n",
       "      <td>1989.0</td>\n",
       "      <td>6059.0</td>\n",
       "    </tr>\n",
       "    <tr>\n",
       "      <th>1948908</th>\n",
       "      <td>4.0</td>\n",
       "      <td>2.5</td>\n",
       "      <td>1950.0</td>\n",
       "      <td>142946.0</td>\n",
       "      <td>1977.0</td>\n",
       "      <td>6111.0</td>\n",
       "    </tr>\n",
       "    <tr>\n",
       "      <th>1606731</th>\n",
       "      <td>4.0</td>\n",
       "      <td>2.0</td>\n",
       "      <td>1713.0</td>\n",
       "      <td>290100.0</td>\n",
       "      <td>1994.0</td>\n",
       "      <td>6037.0</td>\n",
       "    </tr>\n",
       "    <tr>\n",
       "      <th>1408008</th>\n",
       "      <td>3.0</td>\n",
       "      <td>1.5</td>\n",
       "      <td>1458.0</td>\n",
       "      <td>456000.0</td>\n",
       "      <td>1955.0</td>\n",
       "      <td>6059.0</td>\n",
       "    </tr>\n",
       "    <tr>\n",
       "      <th>292925</th>\n",
       "      <td>2.0</td>\n",
       "      <td>2.0</td>\n",
       "      <td>971.0</td>\n",
       "      <td>202309.0</td>\n",
       "      <td>1984.0</td>\n",
       "      <td>6037.0</td>\n",
       "    </tr>\n",
       "  </tbody>\n",
       "</table>\n",
       "</div>"
      ],
      "text/plain": [
       "         bedrooms  bathrooms  area_sqft  tax_value  year_built    fips\n",
       "1979346       4.0        2.5     2068.0   492072.0      1989.0  6059.0\n",
       "1948908       4.0        2.5     1950.0   142946.0      1977.0  6111.0\n",
       "1606731       4.0        2.0     1713.0   290100.0      1994.0  6037.0\n",
       "1408008       3.0        1.5     1458.0   456000.0      1955.0  6059.0\n",
       "292925        2.0        2.0      971.0   202309.0      1984.0  6037.0"
      ]
     },
     "execution_count": 36,
     "metadata": {},
     "output_type": "execute_result"
    }
   ],
   "source": [
    "train.head()"
   ]
  },
  {
   "cell_type": "code",
   "execution_count": null,
   "id": "b74985d9",
   "metadata": {},
   "outputs": [],
   "source": []
  },
  {
   "cell_type": "code",
   "execution_count": null,
   "id": "f2ae4d38",
   "metadata": {},
   "outputs": [],
   "source": []
  },
  {
   "cell_type": "code",
   "execution_count": null,
   "id": "5cbb9203",
   "metadata": {},
   "outputs": [],
   "source": []
  },
  {
   "cell_type": "code",
   "execution_count": null,
   "id": "02e3065a",
   "metadata": {},
   "outputs": [],
   "source": []
  }
 ],
 "metadata": {
  "kernelspec": {
   "display_name": "Python 3",
   "language": "python",
   "name": "python3"
  },
  "language_info": {
   "codemirror_mode": {
    "name": "ipython",
    "version": 3
   },
   "file_extension": ".py",
   "mimetype": "text/x-python",
   "name": "python",
   "nbconvert_exporter": "python",
   "pygments_lexer": "ipython3",
   "version": "3.8.8"
  }
 },
 "nbformat": 4,
 "nbformat_minor": 5
}
