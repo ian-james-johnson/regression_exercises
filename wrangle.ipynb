{
 "cells": [
  {
   "cell_type": "code",
   "execution_count": null,
   "id": "f5545738",
   "metadata": {},
   "outputs": [],
   "source": [
    "import warnings\n",
    "warnings.filterwarnings('ignore')\n",
    "\n",
    "import numpy as np\n",
    "import pandas as pd\n",
    "import matplotlib.pyplot as plt\n",
    "import seaborn as sns\n",
    "\n",
    "from sklearn.model_selection import train_test_split\n",
    "from sklearn.impute import SimpleImputer\n",
    "\n",
    "from env import user, host, password\n",
    "from wrangle import get_connection, new_zillow_data, get_zillow_data"
   ]
  },
  {
   "cell_type": "markdown",
   "id": "d75db8c4",
   "metadata": {},
   "source": [
    "# Acquire"
   ]
  },
  {
   "cell_type": "code",
   "execution_count": null,
   "id": "f31aa91e",
   "metadata": {},
   "outputs": [],
   "source": [
    "df = get_zillow_data()\n",
    "df.head()"
   ]
  },
  {
   "cell_type": "code",
   "execution_count": null,
   "id": "f9ea5662",
   "metadata": {},
   "outputs": [],
   "source": [
    "# Lets get shorter and easier to understand names\n",
    "df = df.rename(columns= {'bedroomcnt' : 'bedrooms', \n",
    "                         'bathroomcnt' : 'bathrooms', \n",
    "                         'calculatedfinishedsquarefeet' : 'area_sqft', \n",
    "                         'taxvaluedollarcnt' : 'tax_value', \n",
    "                         'yearbuilt' : 'year_built', \n",
    "                         'taxamount' : 'tax_amount'})"
   ]
  },
  {
   "cell_type": "code",
   "execution_count": null,
   "id": "a1faedb8",
   "metadata": {},
   "outputs": [],
   "source": [
    "# Checking the renamed columns\n",
    "df.head()"
   ]
  },
  {
   "cell_type": "code",
   "execution_count": null,
   "id": "eccd8c7f",
   "metadata": {},
   "outputs": [],
   "source": [
    "df.shape"
   ]
  },
  {
   "cell_type": "code",
   "execution_count": null,
   "id": "070d8ff6",
   "metadata": {},
   "outputs": [],
   "source": [
    "df.info()"
   ]
  },
  {
   "cell_type": "code",
   "execution_count": null,
   "id": "03aa8092",
   "metadata": {
    "scrolled": true
   },
   "outputs": [],
   "source": [
    "df.describe().T"
   ]
  },
  {
   "cell_type": "code",
   "execution_count": null,
   "id": "5f9c1000",
   "metadata": {},
   "outputs": [],
   "source": [
    "df.isna().sum()\n",
    "\n",
    "# Get a boolean telling you if there are nulls in a column\n",
    "# df.isnull().any()\n",
    "\n",
    "# Get list of column names that have nulls\n",
    "# df.columns[df.isnull().any()]"
   ]
  },
  {
   "cell_type": "code",
   "execution_count": null,
   "id": "656f12d5",
   "metadata": {
    "scrolled": true
   },
   "outputs": [],
   "source": [
    "df.hist()"
   ]
  },
  {
   "cell_type": "code",
   "execution_count": null,
   "id": "bbb9cbed",
   "metadata": {},
   "outputs": [],
   "source": [
    "# Make a nicer histogram than the previous histplot\n",
    "plt.figure(figsize=(16, 3))\n",
    "\n",
    "# List of columns\n",
    "#cols = ['bedroomcnt', 'bathroomcnt', 'calculatedfinishedsquarefeet', \n",
    "#       'taxvaluedollarcnt', 'yearbuilt', 'taxamount', 'fips']\n",
    "cols = [col for col in df.columns if col not in ['fips', 'year_built']]\n",
    "\n",
    "for i, col in enumerate(cols):\n",
    "    \n",
    "    # Plot number should start at 1, but i starts at 0\n",
    "    plot_number = i + 1\n",
    "    \n",
    "    # Create subplots\n",
    "    plt.subplot(1, len(cols), plot_number)\n",
    "    \n",
    "    # Add a title to the subplots\n",
    "    plt.title(col)\n",
    "    \n",
    "    # Make a histogram for each column\n",
    "    df[col].hist(bins=5)\n",
    "    # df.col.hist(bins=5)   for some reason this alternative line gets an error\n",
    "    \n",
    "    # Hide the grids in the subplots\n",
    "    plt.grid(False)\n",
    "    \n",
    "plt.show()"
   ]
  },
  {
   "cell_type": "code",
   "execution_count": null,
   "id": "2e44e589",
   "metadata": {},
   "outputs": [],
   "source": [
    "plt.figure(figsize=(14,4))\n",
    "sns.boxplot(data=df.drop(columns='fips'))"
   ]
  },
  {
   "cell_type": "code",
   "execution_count": null,
   "id": "12591950",
   "metadata": {},
   "outputs": [],
   "source": [
    "# Make a nicer boxplot than the previous boxplot\n",
    "plt.figure(figsize=(16, 3))\n",
    "\n",
    "# List of columns\n",
    "#cols = ['bedroomcnt', 'bathroomcnt', 'calculatedfinishedsquarefeet', \n",
    "#       'taxvaluedollarcnt', 'yearbuilt', 'taxamount', 'fips']\n",
    "\n",
    "#cols = [col for col in df.columns if col not in ['fips', 'year_built']]\n",
    "cols = df.columns\n",
    "\n",
    "for i, col in enumerate(cols):\n",
    "    \n",
    "    # Plot number should start at 1, but i starts at 0\n",
    "    plot_number = i + 1\n",
    "    \n",
    "    # Create subplots\n",
    "    plt.subplot(1, len(cols), plot_number)\n",
    "    \n",
    "    # Add a title to the subplots\n",
    "    plt.title(col)\n",
    "    \n",
    "    # Make a histogram for each column\n",
    "    sns.boxplot(data = df[[col]])\n",
    "    \n",
    "    # Hide the grids in the subplots\n",
    "    plt.grid(False)\n",
    "    \n",
    "#plt.show()\n",
    "plt.tight_layout()\n",
    "# Some of my plots are shaped differently than John's, \n",
    "# perhaps because of my method of acquiring?"
   ]
  },
  {
   "cell_type": "markdown",
   "id": "147feb9d",
   "metadata": {},
   "source": [
    "### Takeaways for Acquire <br>\n",
    "- All columns are float64 <br>\n",
    "- Only taxamount and bathroomcnt need to be float, the rest can be int <br>\n",
    "- Lots of null values in most columns <br>\n",
    "- Some columns have a huge range of values <br>\n",
    "- Some columns have extreme outliers <br>\n",
    "- Some columns do not have a normal distribution"
   ]
  },
  {
   "cell_type": "markdown",
   "id": "4ad2c593",
   "metadata": {},
   "source": [
    "# Prepare"
   ]
  },
  {
   "cell_type": "code",
   "execution_count": null,
   "id": "17375901",
   "metadata": {},
   "outputs": [],
   "source": [
    "# Check for nulls again\n",
    "df.isnull().sum()\n",
    "# I will impute the null values later"
   ]
  },
  {
   "cell_type": "code",
   "execution_count": null,
   "id": "8968d56f",
   "metadata": {
    "scrolled": true
   },
   "outputs": [],
   "source": [
    "# Nulls are rare for bedrooms and bathrooms\n",
    "# Nulls may not appear in train after splitting\n",
    "# Thus, I am dropping nulls for bedroom and bathroom now\n",
    "df.bedrooms.dropna()\n",
    "df.bathrooms.dropna()\n",
    "df.isnull().sum()"
   ]
  },
  {
   "cell_type": "code",
   "execution_count": null,
   "id": "924760ff",
   "metadata": {},
   "outputs": [],
   "source": [
    "# Replace a whitespace sequence or empty with a NaN value \n",
    "# and reassign this manipulation to df.\n",
    "df = df.replace(r'^\\s*$', np.nan, regex=True)"
   ]
  },
  {
   "cell_type": "code",
   "execution_count": null,
   "id": "caf4b04f",
   "metadata": {},
   "outputs": [],
   "source": [
    "def remove_outliers(df, k, col_list):\n",
    "    '''\n",
    "    Remove outliers from a list of columns.\n",
    "    '''\n",
    "    for col in col_list:\n",
    "        # Get quartiles\n",
    "        q1, q3 = df[col].quantile([.25, .75])\n",
    "        \n",
    "        # Get interquartile range\n",
    "        iqr = q3 - q1\n",
    "        \n",
    "        upper_bound = q3 + k * iqr\n",
    "        lower_bound = q1 - k * iqr\n",
    "        \n",
    "        # Return the dataframe without the outliers\n",
    "        df = df[(df[col] > lower_bound) & (df[col] < upper_bound)]\n",
    "        \n",
    "        return df"
   ]
  },
  {
   "cell_type": "code",
   "execution_count": null,
   "id": "0fe3f74f",
   "metadata": {},
   "outputs": [],
   "source": [
    "df = remove_outliers(df, 1.5, df.columns)\n",
    "df"
   ]
  },
  {
   "cell_type": "code",
   "execution_count": null,
   "id": "9cb43a7d",
   "metadata": {},
   "outputs": [],
   "source": [
    "# Get the value_counts\n",
    "cols = df.columns\n",
    "for col in cols:\n",
    "    print(col.upper())\n",
    "    #print(df.col.value_counts())   For some reason this also gives an error\n",
    "    print(df[col].value_counts())\n",
    "    print('XXXXXXXXXXXXXXXXXXXXXXXXXXXXXXXXXXXXXXXXXXX')\n",
    "    print()"
   ]
  },
  {
   "cell_type": "code",
   "execution_count": null,
   "id": "0599de1f",
   "metadata": {
    "scrolled": true
   },
   "outputs": [],
   "source": [
    "# fips appears to be a categorical number (i.e. like a zip code)\n",
    "# year_built may also be categorical if we aren't looking at age\n",
    "df.fips = df.fips.astype(object)\n",
    "df.year_built = df.year_built.astype(object)\n",
    "df.info()"
   ]
  },
  {
   "cell_type": "markdown",
   "id": "466fad4a",
   "metadata": {},
   "source": [
    "# Do my columns leak data from the target column? <br>\n",
    "- Taxamount can't be calculated unless we have knowledge of tax value <br>\n",
    "- Taxamount is a function of tax value <br>\n",
    "- I am dropping tax_amount from the dataframe"
   ]
  },
  {
   "cell_type": "code",
   "execution_count": null,
   "id": "3f29bd7c",
   "metadata": {},
   "outputs": [],
   "source": [
    "df = df.drop(columns='tax_amount')\n",
    "df.head()"
   ]
  },
  {
   "cell_type": "markdown",
   "id": "979c0e86",
   "metadata": {},
   "source": [
    "# Split the data"
   ]
  },
  {
   "cell_type": "code",
   "execution_count": null,
   "id": "aafe4ee3",
   "metadata": {},
   "outputs": [],
   "source": [
    "train_validate, test = train_test_split(df, test_size=.2, random_state=123)\n",
    "train, validate = train_test_split(df, test_size=.3, random_state=123)\n",
    "train.shape, validate.shape, test.shape"
   ]
  },
  {
   "cell_type": "markdown",
   "id": "4fd78e7f",
   "metadata": {},
   "source": [
    "# Impute year_built with mode"
   ]
  },
  {
   "cell_type": "code",
   "execution_count": null,
   "id": "b9bcc9d5",
   "metadata": {},
   "outputs": [],
   "source": [
    "# Need to fill nulls for: year_built, area_sqft, tax_value\n",
    "\n",
    "# Create -> Fit -> Use\n",
    "# Create the object\n",
    "imputer_year = SimpleImputer(strategy='most_frequent')\n",
    "\n",
    "# Fit the object to train\n",
    "imputer_year.fit(train[['year_built']])\n",
    "\n",
    "# Use the object to impute on train, validate, and test subsets\n",
    "train[['year_built']]=imputer_year.transform(train[['year_built']])\n",
    "validate[['year_built']]=imputer_year.transform(validate[['year_built']])\n",
    "test[['year_built']]=imputer_year.transform(test[['year_built']])\n",
    "\n",
    "# Now repeat the imputing process for area_sqft\n",
    "imputer_area = SimpleImputer(strategy='median')\n",
    "imputer_area.fit(train[['area_sqft']])\n",
    "\n",
    "train[['area_sqft']]=imputer_area.transform(train[['area_sqft']])\n",
    "validate[['area_sqft']]=imputer_area.transform(validate[['area_sqft']])\n",
    "test[['area_sqft']]=imputer_area.transform(test[['area_sqft']])\n",
    "\n",
    "# Now repeat the imputing process for tax_value\n",
    "imputer_tax = SimpleImputer(strategy='median')\n",
    "imputer_tax.fit(train[['tax_value']])\n",
    "\n",
    "train[['tax_value']]=imputer_tax.transform(train[['tax_value']])\n",
    "validate[['tax_value']]=imputer_tax.transform(validate[['tax_value']])\n",
    "test[['tax_value']]=imputer_tax.transform(test[['tax_value']])"
   ]
  },
  {
   "cell_type": "code",
   "execution_count": null,
   "id": "32ff9f23",
   "metadata": {},
   "outputs": [],
   "source": [
    "# Verify that all null values have been filled\n",
    "train.isnull().sum()"
   ]
  },
  {
   "cell_type": "code",
   "execution_count": null,
   "id": "c2681d48",
   "metadata": {},
   "outputs": [],
   "source": [
    "train.head()"
   ]
  },
  {
   "cell_type": "code",
   "execution_count": null,
   "id": "b74985d9",
   "metadata": {},
   "outputs": [],
   "source": []
  },
  {
   "cell_type": "code",
   "execution_count": null,
   "id": "f2ae4d38",
   "metadata": {},
   "outputs": [],
   "source": []
  },
  {
   "cell_type": "code",
   "execution_count": null,
   "id": "5cbb9203",
   "metadata": {},
   "outputs": [],
   "source": []
  },
  {
   "cell_type": "code",
   "execution_count": null,
   "id": "02e3065a",
   "metadata": {},
   "outputs": [],
   "source": []
  }
 ],
 "metadata": {
  "kernelspec": {
   "display_name": "Python 3",
   "language": "python",
   "name": "python3"
  },
  "language_info": {
   "codemirror_mode": {
    "name": "ipython",
    "version": 3
   },
   "file_extension": ".py",
   "mimetype": "text/x-python",
   "name": "python",
   "nbconvert_exporter": "python",
   "pygments_lexer": "ipython3",
   "version": "3.8.8"
  }
 },
 "nbformat": 4,
 "nbformat_minor": 5
}
