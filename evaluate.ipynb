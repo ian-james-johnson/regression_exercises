{
 "cells": [
  {
   "cell_type": "code",
   "execution_count": 1,
   "id": "4ac42b7a",
   "metadata": {},
   "outputs": [],
   "source": [
    "import pandas as pd\n",
    "import numpy as np\n",
    "import seaborn as sns\n",
    "import matplotlib.pyplot as plt\n",
    "\n",
    "import sklearn\n",
    "from sklearn.linear_model import LinearRegression\n",
    "from sklearn.metrics import mean_squared_error\n",
    "from sklearn.metrics import r2_score\n",
    "\n",
    "from pydataset import data"
   ]
  },
  {
   "cell_type": "markdown",
   "id": "12bcd076",
   "metadata": {},
   "source": [
    "# 1 <br>\n",
    "Load the tips dataset from either pydataset or seaborn."
   ]
  },
  {
   "cell_type": "code",
   "execution_count": null,
   "id": "59c3ae50",
   "metadata": {},
   "outputs": [],
   "source": [
    "df = data('tips')\n",
    "df.head()"
   ]
  },
  {
   "cell_type": "code",
   "execution_count": null,
   "id": "59f51495",
   "metadata": {},
   "outputs": [],
   "source": [
    "df.shape"
   ]
  },
  {
   "cell_type": "markdown",
   "id": "60787c2b",
   "metadata": {},
   "source": [
    "# 2 <br>\n",
    "Fit a linear regression model (ordinary least squares) and compute yhat, predictions of tip using total_bill."
   ]
  },
  {
   "cell_type": "code",
   "execution_count": null,
   "id": "1822dad0",
   "metadata": {},
   "outputs": [],
   "source": [
    "# Create the variables\n",
    "x = df[['total_bill']]\n",
    "y = df['tip']\n",
    "\n",
    "# Create the object\n",
    "model = LinearRegression().fit(x,y)\n",
    "\n",
    "# Use the object\n",
    "predictions = model.predict(x)\n",
    "\n",
    "# Add columns to df for predictions and baseline predictions\n",
    "df['yhat_baseline'] = y.mean() # This gives a baseline without features (columns)\n",
    "df['yhat'] = predictions # This is what our model predicts given x\n",
    "\n",
    "df.head()"
   ]
  },
  {
   "cell_type": "markdown",
   "id": "8c6eec13",
   "metadata": {},
   "source": [
    "# 3 <br>\n",
    "Plot the residuals for the linear regression model that you made."
   ]
  },
  {
   "cell_type": "code",
   "execution_count": null,
   "id": "c7ed0da1",
   "metadata": {
    "scrolled": true
   },
   "outputs": [],
   "source": [
    "# color = color of the line (the solid line, not the transparent area)\n",
    "# alpha = opacity of the line\n",
    "# lw = width of the line\n",
    "ax = sns.lmplot(y='tip', x='total_bill', data=df, line_kws={'color':'red', 'alpha':0.5, 'lw':1})\n",
    "ax.set(ylabel='Tip Amount ($)', xlabel='Total Amount ($)')"
   ]
  },
  {
   "cell_type": "code",
   "execution_count": null,
   "id": "1fe6173b",
   "metadata": {
    "scrolled": false
   },
   "outputs": [],
   "source": [
    "# Plot the residuals\n",
    "ax1 = sns.residplot(y='tip', x='total_bill', data=df)\n",
    "ax1.set(ylabel='Tips ($)', xlabel='Total Bill ($)')"
   ]
  },
  {
   "cell_type": "markdown",
   "id": "5ba305d7",
   "metadata": {},
   "source": [
    "# 4 <br>\n",
    "Calculate the sum of squared errors, explained sum of squares, total sum of squares, mean squared error, and root mean squared error for your model."
   ]
  },
  {
   "cell_type": "code",
   "execution_count": null,
   "id": "de70086b",
   "metadata": {},
   "outputs": [],
   "source": [
    "# from sklearn.metrics import mean_squared_error"
   ]
  },
  {
   "cell_type": "code",
   "execution_count": null,
   "id": "3d3f89e5",
   "metadata": {},
   "outputs": [],
   "source": [
    "#MSE2\n",
    "mse2 = mean_squared_error(y, df.yhat)\n",
    "# Alternative method\n",
    "# MSE2 = SSE / Len(df)\n",
    "print(f\"MSE^2 is {round(mse2, 2)}\")"
   ]
  },
  {
   "cell_type": "code",
   "execution_count": null,
   "id": "544e9235",
   "metadata": {},
   "outputs": [],
   "source": [
    "#SSE, sum of squared error\n",
    "# example: SSE2 = mean_squared_error(df.y, df.yhat)*len(df)\n",
    "sse2 = mean_squared_error(y, df.yhat)*len(df)\n",
    "\n",
    "# Alternative method\n",
    "#sse = mse2 * len(df)\n",
    "#sse = sum((df.yhat - y) **2)\n",
    "\n",
    "print('SSE is ', sse2)"
   ]
  },
  {
   "cell_type": "code",
   "execution_count": null,
   "id": "105de11f",
   "metadata": {},
   "outputs": [],
   "source": [
    "# ESS\n",
    "# ESS = sum((df.yhat - df.y.mean())**2)\n",
    "# alternative method:\n",
    "# TSS = ESS + SSE\n",
    "\n",
    "ess = sum((df.yhat -y.mean())**2)\n",
    "print('ESS is  ',ess)"
   ]
  },
  {
   "cell_type": "code",
   "execution_count": null,
   "id": "37abc7fc",
   "metadata": {},
   "outputs": [],
   "source": [
    "# TSS\n",
    "# TSS = ESS + SSE\n",
    "tss = ess + sse2\n",
    "print('TSS is ',tss)"
   ]
  },
  {
   "cell_type": "markdown",
   "id": "98ddc44c",
   "metadata": {},
   "source": [
    "# 5 <br>\n",
    "Calculate the sum of squared errors, mean squared error, and root mean squared error for the baseline model (i.e. a model that always predicts the average tip amount)."
   ]
  },
  {
   "cell_type": "code",
   "execution_count": null,
   "id": "03218f7a",
   "metadata": {
    "scrolled": true
   },
   "outputs": [],
   "source": [
    "# SSE baseline\n",
    "sse_baseline = sum((df.yhat_baseline - y) **2)\n",
    "print('SSE is ', sse_baseline)"
   ]
  },
  {
   "cell_type": "code",
   "execution_count": null,
   "id": "229008a2",
   "metadata": {},
   "outputs": [],
   "source": [
    "# MSE for the baseline\n",
    "mse2_baseline = mean_squared_error(y, df.yhat_baseline)\n",
    "print(f\"MSE^2 is {round(mse2_baseline, 2)}\")"
   ]
  },
  {
   "cell_type": "code",
   "execution_count": null,
   "id": "cd1574a2",
   "metadata": {},
   "outputs": [],
   "source": [
    "# RMSE\n",
    "# RMSE2 = sqrt(mean_squared_error(df.y, df.yhat))\n",
    "\n",
    "rmse_baseline = mse2_baseline ** 0.5\n",
    "print('RMSE is  ',rmse_baseline)"
   ]
  },
  {
   "cell_type": "markdown",
   "id": "2bfa8456",
   "metadata": {},
   "source": [
    "# 6 <br>\n",
    "Write python code that compares the sum of squared errors for your model against the sum of squared errors for the baseline model and outputs whether or not your model performs better than the baseline model."
   ]
  },
  {
   "cell_type": "code",
   "execution_count": null,
   "id": "a051b88c",
   "metadata": {},
   "outputs": [],
   "source": [
    "def compare_sse(sse, sse_baseline):\n",
    "    if sse < sse_baseline:\n",
    "        print('Our model is better than the baseline')\n",
    "    \n",
    "    else:\n",
    "        print('The baseline is better than our model')\n",
    "\n",
    "compare_sse(sse, sse_baseline)"
   ]
  },
  {
   "cell_type": "markdown",
   "id": "0370489b",
   "metadata": {},
   "source": [
    "# 7 <br>\n",
    "What is the amount of variance explained in your model?"
   ]
  },
  {
   "cell_type": "code",
   "execution_count": null,
   "id": "5ba0f00d",
   "metadata": {},
   "outputs": [],
   "source": [
    "print(f\"The variance explained by our model is {round(r2_score(y, df.yhat),3)}\")"
   ]
  },
  {
   "cell_type": "markdown",
   "id": "289b257b",
   "metadata": {},
   "source": [
    "# 8 <br>\n",
    "Is your model better than the baseline model?"
   ]
  },
  {
   "cell_type": "code",
   "execution_count": null,
   "id": "21c83ffe",
   "metadata": {
    "scrolled": true
   },
   "outputs": [],
   "source": [
    "r2 = r2_score(y, df.yhat)\n",
    "r2_baseline = r2_score(y, df.yhat_baseline)\n",
    "print('Our model is better than the baseline: ', r2 > r2_baseline)"
   ]
  },
  {
   "cell_type": "markdown",
   "id": "0d5e1403",
   "metadata": {},
   "source": [
    "# 9 <br>\n",
    "Create a file named evaluate.py that contains the following functions. <br>\n",
    "- plot_residuals(y, yhat): creates a residual plot\n",
    "- regression_errors(y, yhat): returns the following values:\n",
    "- sum of squared errors (SSE)\n",
    "- explained sum of squares (ESS)\n",
    "- total sum of squares (TSS)\n",
    "- mean squared error (MSE)\n",
    "- root mean squared error (RMSE)\n",
    "- baseline_mean_errors(y): computes the SSE, MSE, and RMSE for the baseline model\n",
    "- better_than_baseline(y, yhat): returns true if your model performs better than the baseline, otherwise false"
   ]
  },
  {
   "cell_type": "code",
   "execution_count": null,
   "id": "b9e8b1d9",
   "metadata": {
    "scrolled": true
   },
   "outputs": [],
   "source": [
    "import pandas as pd\n",
    "import numpy as np\n",
    "import seaborn as sns\n",
    "import matplotlib.pyplot as plt\n",
    "\n",
    "from sklearn.linear_model import LinearRegression\n",
    "from sklearn.metrics import mean_squared_error\n",
    "from sklearn.metrics import r2_score\n",
    "\n",
    "from pydataset import data\n",
    "\n",
    "df = data('tips')\n",
    "\n",
    "# Create the variables\n",
    "x = df[['total_bill']]\n",
    "y = df['tip']\n",
    "\n",
    "# Create the object\n",
    "model = LinearRegression().fit(x,y)\n",
    "# Use the object\n",
    "predictions = model.predict(x)\n",
    "# Add columns to df for predictions and baseline predictions\n",
    "df['yhat_baseline'] = y.mean() # This gives a baseline without features (columns)\n",
    "df['yhat'] = predictions # This is what our model predicts given x\n",
    "\n",
    "# MSE2\n",
    "mse2 = mean_squared_error(y, df.yhat)\n",
    "print('MSE is ',round(mse2,2))\n",
    "\n",
    "# RMSE\n",
    "rmse = mse2 ** 0.5\n",
    "print('RMSE is  ',round(rmse,2))\n",
    "\n",
    "# SSE, sum of squared error\n",
    "sse2 = mean_squared_error(y, df.yhat)*len(df)\n",
    "print('SSE is ',round(sse2,2))\n",
    "\n",
    "# ESS\n",
    "ess = sum((df.yhat -y.mean())**2)\n",
    "print('ESS is ',round(ess,2))\n",
    "\n",
    "# SSE, sum of squared error\n",
    "sse2_baseline = mean_squared_error(y, df.yhat_baseline)*len(df)\n",
    "print('Baseline SSE is ',round(sse2_baseline,2))\n",
    "\n",
    "# MSE2\n",
    "mse2_baseline = mean_squared_error(y, df.yhat_baseline)\n",
    "print('Baseline MSE is ',round(mse2_baseline,2))\n",
    "\n",
    "# RMSE\n",
    "rmse_baseline = mse2_baseline ** 0.5\n",
    "print('Baseline RMSE is  ',round(rmse_baseline,2))\n",
    "\n",
    "print('')\n",
    "print('The model is better than the baseline: ', rmse < rmse_baseline)\n",
    "\n",
    "print('')\n",
    "print('')\n",
    "print('Plot of Residuals')\n",
    "ax1 = sns.residplot(y='tip', x='total_bill', data=df)\n",
    "ax1.set(ylabel='Tips ($)', xlabel='Total Bill ($)')"
   ]
  },
  {
   "cell_type": "code",
   "execution_count": null,
   "id": "9d092ce3",
   "metadata": {
    "scrolled": true
   },
   "outputs": [],
   "source": [
    "def plot_residuals (x, y):\n",
    "    '''This function takes x column and y column as arguments. It creates a plot of residuals.'''\n",
    "    ax1 = sns.residplot(y='tip', x='total_bill', data=df)\n",
    "    ax1.set(ylabel='Tips ($)', xlabel='Total Bill ($)')\n",
    "    return\n",
    "\n",
    "x = df.total_bill\n",
    "y = df.tip\n",
    "\n",
    "plot_residuals(x, y)"
   ]
  },
  {
   "cell_type": "code",
   "execution_count": null,
   "id": "81f27631",
   "metadata": {},
   "outputs": [],
   "source": [
    "def regression_errors(y, yhat):\n",
    "    '''This functions takes y and yhat and returns regression error values.'''\n",
    "\n",
    "    # MSE2\n",
    "    mse2 = mean_squared_error(y, df.yhat)\n",
    "    print('MSE is ',round(mse2,2))\n",
    "\n",
    "    # RMSE\n",
    "    rmse = mse2 ** 0.5\n",
    "    print('RMSE is  ',round(rmse,2))\n",
    "\n",
    "    # SSE, sum of squared error\n",
    "    sse2 = mean_squared_error(y, df.yhat)*len(df)\n",
    "    print('SSE is ',round(sse2,2))\n",
    "\n",
    "    # ESS\n",
    "    ess = sum((df.yhat -y.mean())**2)\n",
    "    print('ESS is ',round(ess,2))\n",
    "\n",
    "    return mse2, rmse, sse2, ess\n",
    "\n",
    "\n",
    "\n",
    "\n",
    "y = df['tip']\n",
    "yhat = df['yhat']\n",
    "regression_errors(y, yhat)"
   ]
  },
  {
   "cell_type": "code",
   "execution_count": null,
   "id": "8ad3e5d1",
   "metadata": {
    "scrolled": true
   },
   "outputs": [],
   "source": [
    "def baseline_mean_errors(y):\n",
    "    '''This function takes in y column and returns the error statistics.'''\n",
    "\n",
    "    baseline = y.mean()\n",
    "    residuals = baseline - y\n",
    "    residuals_squared = sum(residuals**2)\n",
    "    \n",
    "    SSE = residuals_squared\n",
    "    \n",
    "    MSE = SSE/len(y)\n",
    "    \n",
    "    RMSE = MSE ** 0.5\n",
    "    \n",
    "    d =  {'SSE': [round(SSE,2)],\n",
    "      'MSE': [round(MSE,2)],\n",
    "      'RMSE': [round(RMSE,2)]}\n",
    "    \n",
    "    baseline_errors_df=pd.DataFrame(d,index=['Baseline Reggression Errors'])\n",
    "    return baseline_errors_df.T\n",
    "\n",
    "\n",
    "y= df['tip']\n",
    "baseline_mean_errors(y)"
   ]
  },
  {
   "cell_type": "code",
   "execution_count": null,
   "id": "49debb16",
   "metadata": {},
   "outputs": [],
   "source": [
    "import sklearn\n",
    "\n",
    "def better_than_baseline(y,yhat):\n",
    "    baseline = y.mean()\n",
    "    residuals_baseline = baseline - y\n",
    "    residuals_squared_baseline = sum(residuals_baseline**2)\n",
    "    SSE_baseline = residuals_squared_baseline\n",
    "    \n",
    "    MSE_baseline = SSE_baseline/len(y)\n",
    "    \n",
    "    RMSE_baseline = MSE_baseline ** 0.5\n",
    "    \n",
    "    residuals = yhat - y\n",
    "    residuals_squared = sum(residuals**2)\n",
    "    SSE = residuals_squared\n",
    "    \n",
    "    MSE = sklearn.metrics.mean_squared_error(y,yhat)\n",
    "    \n",
    "    RMSE = (sklearn.metrics.mean_squared_error(y,yhat)) ** 0.5\n",
    "    \n",
    "    if RMSE < RMSE_baseline:\n",
    "        return True\n",
    "    else: \n",
    "        return False\n",
    "\n",
    "y=df.tip\n",
    "yhat=df.yhat\n",
    "\n",
    "better_than_baseline(y, yhat)"
   ]
  },
  {
   "cell_type": "markdown",
   "id": "bf759d2a",
   "metadata": {},
   "source": [
    "# 10 <br>\n",
    "Load the mpg dataset and fit a model that predicts highway mileage based on engine displacement. Take a look at all the regression evaluation metrics, and determine whether this model is better than the baseline model. Use the functions from your evaluate.py to help accomplish this."
   ]
  },
  {
   "cell_type": "code",
   "execution_count": 2,
   "id": "223948aa",
   "metadata": {},
   "outputs": [
    {
     "data": {
      "text/html": [
       "<div>\n",
       "<style scoped>\n",
       "    .dataframe tbody tr th:only-of-type {\n",
       "        vertical-align: middle;\n",
       "    }\n",
       "\n",
       "    .dataframe tbody tr th {\n",
       "        vertical-align: top;\n",
       "    }\n",
       "\n",
       "    .dataframe thead th {\n",
       "        text-align: right;\n",
       "    }\n",
       "</style>\n",
       "<table border=\"1\" class=\"dataframe\">\n",
       "  <thead>\n",
       "    <tr style=\"text-align: right;\">\n",
       "      <th></th>\n",
       "      <th>manufacturer</th>\n",
       "      <th>model</th>\n",
       "      <th>displ</th>\n",
       "      <th>year</th>\n",
       "      <th>cyl</th>\n",
       "      <th>trans</th>\n",
       "      <th>drv</th>\n",
       "      <th>cty</th>\n",
       "      <th>hwy</th>\n",
       "      <th>fl</th>\n",
       "      <th>class</th>\n",
       "    </tr>\n",
       "  </thead>\n",
       "  <tbody>\n",
       "    <tr>\n",
       "      <th>1</th>\n",
       "      <td>audi</td>\n",
       "      <td>a4</td>\n",
       "      <td>1.8</td>\n",
       "      <td>1999</td>\n",
       "      <td>4</td>\n",
       "      <td>auto(l5)</td>\n",
       "      <td>f</td>\n",
       "      <td>18</td>\n",
       "      <td>29</td>\n",
       "      <td>p</td>\n",
       "      <td>compact</td>\n",
       "    </tr>\n",
       "    <tr>\n",
       "      <th>2</th>\n",
       "      <td>audi</td>\n",
       "      <td>a4</td>\n",
       "      <td>1.8</td>\n",
       "      <td>1999</td>\n",
       "      <td>4</td>\n",
       "      <td>manual(m5)</td>\n",
       "      <td>f</td>\n",
       "      <td>21</td>\n",
       "      <td>29</td>\n",
       "      <td>p</td>\n",
       "      <td>compact</td>\n",
       "    </tr>\n",
       "    <tr>\n",
       "      <th>3</th>\n",
       "      <td>audi</td>\n",
       "      <td>a4</td>\n",
       "      <td>2.0</td>\n",
       "      <td>2008</td>\n",
       "      <td>4</td>\n",
       "      <td>manual(m6)</td>\n",
       "      <td>f</td>\n",
       "      <td>20</td>\n",
       "      <td>31</td>\n",
       "      <td>p</td>\n",
       "      <td>compact</td>\n",
       "    </tr>\n",
       "    <tr>\n",
       "      <th>4</th>\n",
       "      <td>audi</td>\n",
       "      <td>a4</td>\n",
       "      <td>2.0</td>\n",
       "      <td>2008</td>\n",
       "      <td>4</td>\n",
       "      <td>auto(av)</td>\n",
       "      <td>f</td>\n",
       "      <td>21</td>\n",
       "      <td>30</td>\n",
       "      <td>p</td>\n",
       "      <td>compact</td>\n",
       "    </tr>\n",
       "    <tr>\n",
       "      <th>5</th>\n",
       "      <td>audi</td>\n",
       "      <td>a4</td>\n",
       "      <td>2.8</td>\n",
       "      <td>1999</td>\n",
       "      <td>6</td>\n",
       "      <td>auto(l5)</td>\n",
       "      <td>f</td>\n",
       "      <td>16</td>\n",
       "      <td>26</td>\n",
       "      <td>p</td>\n",
       "      <td>compact</td>\n",
       "    </tr>\n",
       "  </tbody>\n",
       "</table>\n",
       "</div>"
      ],
      "text/plain": [
       "  manufacturer model  displ  year  cyl       trans drv  cty  hwy fl    class\n",
       "1         audi    a4    1.8  1999    4    auto(l5)   f   18   29  p  compact\n",
       "2         audi    a4    1.8  1999    4  manual(m5)   f   21   29  p  compact\n",
       "3         audi    a4    2.0  2008    4  manual(m6)   f   20   31  p  compact\n",
       "4         audi    a4    2.0  2008    4    auto(av)   f   21   30  p  compact\n",
       "5         audi    a4    2.8  1999    6    auto(l5)   f   16   26  p  compact"
      ]
     },
     "execution_count": 2,
     "metadata": {},
     "output_type": "execute_result"
    }
   ],
   "source": [
    "from pydataset import data\n",
    "df = data('mpg')\n",
    "df.head()"
   ]
  },
  {
   "cell_type": "code",
   "execution_count": 3,
   "id": "9e84b058",
   "metadata": {},
   "outputs": [],
   "source": [
    "x = df['displ']\n",
    "y = df['hwy']\n",
    "\n",
    "df['yhat_baseline'] = df['hwy'].mean()"
   ]
  },
  {
   "cell_type": "code",
   "execution_count": 4,
   "id": "b2a15d42",
   "metadata": {},
   "outputs": [],
   "source": [
    "# generate parameters, i.e. create model\n",
    "ols_model = LinearRegression().fit(df[['displ']], df[['hwy']])\n",
    "\n",
    "# compute predictions and add to original dataframe\n",
    "df['yhat'] = ols_model.predict(df[['displ']])\n",
    "\n",
    "yhat = df.yhat\n",
    "yhat_baseline = df.yhat_baseline"
   ]
  },
  {
   "cell_type": "code",
   "execution_count": 5,
   "id": "1abb1038",
   "metadata": {
    "scrolled": true
   },
   "outputs": [
    {
     "data": {
      "text/html": [
       "<div>\n",
       "<style scoped>\n",
       "    .dataframe tbody tr th:only-of-type {\n",
       "        vertical-align: middle;\n",
       "    }\n",
       "\n",
       "    .dataframe tbody tr th {\n",
       "        vertical-align: top;\n",
       "    }\n",
       "\n",
       "    .dataframe thead th {\n",
       "        text-align: right;\n",
       "    }\n",
       "</style>\n",
       "<table border=\"1\" class=\"dataframe\">\n",
       "  <thead>\n",
       "    <tr style=\"text-align: right;\">\n",
       "      <th></th>\n",
       "      <th>manufacturer</th>\n",
       "      <th>model</th>\n",
       "      <th>displ</th>\n",
       "      <th>year</th>\n",
       "      <th>cyl</th>\n",
       "      <th>trans</th>\n",
       "      <th>drv</th>\n",
       "      <th>cty</th>\n",
       "      <th>hwy</th>\n",
       "      <th>fl</th>\n",
       "      <th>class</th>\n",
       "      <th>yhat_baseline</th>\n",
       "      <th>yhat</th>\n",
       "    </tr>\n",
       "  </thead>\n",
       "  <tbody>\n",
       "    <tr>\n",
       "      <th>1</th>\n",
       "      <td>audi</td>\n",
       "      <td>a4</td>\n",
       "      <td>1.8</td>\n",
       "      <td>1999</td>\n",
       "      <td>4</td>\n",
       "      <td>auto(l5)</td>\n",
       "      <td>f</td>\n",
       "      <td>18</td>\n",
       "      <td>29</td>\n",
       "      <td>p</td>\n",
       "      <td>compact</td>\n",
       "      <td>23.440171</td>\n",
       "      <td>29.342591</td>\n",
       "    </tr>\n",
       "    <tr>\n",
       "      <th>2</th>\n",
       "      <td>audi</td>\n",
       "      <td>a4</td>\n",
       "      <td>1.8</td>\n",
       "      <td>1999</td>\n",
       "      <td>4</td>\n",
       "      <td>manual(m5)</td>\n",
       "      <td>f</td>\n",
       "      <td>21</td>\n",
       "      <td>29</td>\n",
       "      <td>p</td>\n",
       "      <td>compact</td>\n",
       "      <td>23.440171</td>\n",
       "      <td>29.342591</td>\n",
       "    </tr>\n",
       "    <tr>\n",
       "      <th>3</th>\n",
       "      <td>audi</td>\n",
       "      <td>a4</td>\n",
       "      <td>2.0</td>\n",
       "      <td>2008</td>\n",
       "      <td>4</td>\n",
       "      <td>manual(m6)</td>\n",
       "      <td>f</td>\n",
       "      <td>20</td>\n",
       "      <td>31</td>\n",
       "      <td>p</td>\n",
       "      <td>compact</td>\n",
       "      <td>23.440171</td>\n",
       "      <td>28.636473</td>\n",
       "    </tr>\n",
       "    <tr>\n",
       "      <th>4</th>\n",
       "      <td>audi</td>\n",
       "      <td>a4</td>\n",
       "      <td>2.0</td>\n",
       "      <td>2008</td>\n",
       "      <td>4</td>\n",
       "      <td>auto(av)</td>\n",
       "      <td>f</td>\n",
       "      <td>21</td>\n",
       "      <td>30</td>\n",
       "      <td>p</td>\n",
       "      <td>compact</td>\n",
       "      <td>23.440171</td>\n",
       "      <td>28.636473</td>\n",
       "    </tr>\n",
       "    <tr>\n",
       "      <th>5</th>\n",
       "      <td>audi</td>\n",
       "      <td>a4</td>\n",
       "      <td>2.8</td>\n",
       "      <td>1999</td>\n",
       "      <td>6</td>\n",
       "      <td>auto(l5)</td>\n",
       "      <td>f</td>\n",
       "      <td>16</td>\n",
       "      <td>26</td>\n",
       "      <td>p</td>\n",
       "      <td>compact</td>\n",
       "      <td>23.440171</td>\n",
       "      <td>25.812002</td>\n",
       "    </tr>\n",
       "  </tbody>\n",
       "</table>\n",
       "</div>"
      ],
      "text/plain": [
       "  manufacturer model  displ  year  cyl       trans drv  cty  hwy fl    class  \\\n",
       "1         audi    a4    1.8  1999    4    auto(l5)   f   18   29  p  compact   \n",
       "2         audi    a4    1.8  1999    4  manual(m5)   f   21   29  p  compact   \n",
       "3         audi    a4    2.0  2008    4  manual(m6)   f   20   31  p  compact   \n",
       "4         audi    a4    2.0  2008    4    auto(av)   f   21   30  p  compact   \n",
       "5         audi    a4    2.8  1999    6    auto(l5)   f   16   26  p  compact   \n",
       "\n",
       "   yhat_baseline       yhat  \n",
       "1      23.440171  29.342591  \n",
       "2      23.440171  29.342591  \n",
       "3      23.440171  28.636473  \n",
       "4      23.440171  28.636473  \n",
       "5      23.440171  25.812002  "
      ]
     },
     "execution_count": 5,
     "metadata": {},
     "output_type": "execute_result"
    }
   ],
   "source": [
    "df.head()"
   ]
  },
  {
   "cell_type": "code",
   "execution_count": 6,
   "id": "6c976b84",
   "metadata": {
    "scrolled": true
   },
   "outputs": [],
   "source": [
    "import evaluate"
   ]
  },
  {
   "cell_type": "code",
   "execution_count": 7,
   "id": "d06c7759",
   "metadata": {
    "scrolled": false
   },
   "outputs": [
    {
     "name": "stderr",
     "output_type": "stream",
     "text": [
      "/usr/local/anaconda3/lib/python3.8/site-packages/seaborn/_decorators.py:36: FutureWarning: Pass the following variables as keyword args: x, y. From version 0.12, the only valid positional argument will be `data`, and passing other arguments without an explicit keyword will result in an error or misinterpretation.\n",
      "  warnings.warn(\n"
     ]
    },
    {
     "data": {
      "image/png": "[encoded data removed]",
      "text/plain": [
       "<Figure size 432x288 with 1 Axes>"
      ]
     },
     "metadata": {
      "needs_background": "light"
     },
     "output_type": "display_data"
    }
   ],
   "source": [
    "evaluate.plot_residuals(x, y)"
   ]
  },
  {
   "cell_type": "code",
   "execution_count": 8,
   "id": "8b54b5cf",
   "metadata": {
    "scrolled": false
   },
   "outputs": [
    {
     "name": "stdout",
     "output_type": "stream",
     "text": [
      "MSE is  14.59\n",
      "RMSE is   3.82\n",
      "SSE is  3413.83\n",
      "ESS is  4847.83\n"
     ]
    },
    {
     "data": {
      "text/plain": [
       "(14.589012858954987, 3.8195566312014524, 3413.829008995467, 4847.833384166928)"
      ]
     },
     "execution_count": 8,
     "metadata": {},
     "output_type": "execute_result"
    }
   ],
   "source": [
    "evaluate.regression_errors(y, df.yhat)"
   ]
  },
  {
   "cell_type": "code",
   "execution_count": 9,
   "id": "9e04de4f",
   "metadata": {},
   "outputs": [
    {
     "name": "stdout",
     "output_type": "stream",
     "text": [
      "MSE is  35.31\n",
      "RMSE is   5.94\n",
      "SSE is  8261.66\n",
      "ESS is  0.0\n"
     ]
    },
    {
     "data": {
      "text/plain": [
       "(35.30624954342902, 5.941906221359356, 8261.66239316239, 0.0)"
      ]
     },
     "execution_count": 9,
     "metadata": {},
     "output_type": "execute_result"
    }
   ],
   "source": [
    "evaluate.regression_errors(y, df.yhat_baseline)"
   ]
  },
  {
   "cell_type": "markdown",
   "id": "b9331154",
   "metadata": {},
   "source": [
    "### The model is better than the baseline."
   ]
  },
  {
   "cell_type": "code",
   "execution_count": null,
   "id": "aad82adb",
   "metadata": {},
   "outputs": [],
   "source": []
  }
 ],
 "metadata": {
  "kernelspec": {
   "display_name": "Python 3",
   "language": "python",
   "name": "python3"
  },
  "language_info": {
   "codemirror_mode": {
    "name": "ipython",
    "version": 3
   },
   "file_extension": ".py",
   "mimetype": "text/x-python",
   "name": "python",
   "nbconvert_exporter": "python",
   "pygments_lexer": "ipython3",
   "version": "3.8.8"
  }
 },
 "nbformat": 4,
 "nbformat_minor": 5
}
