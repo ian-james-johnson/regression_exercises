{
 "cells": [
  {
   "cell_type": "code",
   "execution_count": 1,
   "id": "2f3faddf",
   "metadata": {},
   "outputs": [],
   "source": [
    "import warnings\n",
    "warnings.filterwarnings('ignore')\n",
    "\n",
    "import numpy as np\n",
    "import pandas as pd\n",
    "import matplotlib.pyplot as plt\n",
    "import seaborn as sns\n",
    "\n",
    "from sklearn.model_selection import train_test_split\n",
    "from sklearn.impute import SimpleImputer\n",
    "import sklearn\n",
    "\n",
    "from scipy.stats import pearsonr, spearmanr\n",
    "\n",
    "import os\n",
    "\n",
    "from env import user, host, password\n",
    "#from wrangle import get_connection, new_zillow_data, get_zillow_data, remove_outliers\n",
    "import wrangle"
   ]
  },
  {
   "cell_type": "markdown",
   "id": "a7a6e6b5",
   "metadata": {},
   "source": [
    "# 1 <br>\n",
    "Make sure to perform a train, validate, test split before and use only your train dataset to explore the relationships between independent variables with other independent variables or independent variables with your target variable."
   ]
  },
  {
   "cell_type": "code",
   "execution_count": 2,
   "id": "6dd00a29",
   "metadata": {
    "scrolled": true
   },
   "outputs": [
    {
     "data": {
      "text/html": [
       "<div>\n",
       "<style scoped>\n",
       "    .dataframe tbody tr th:only-of-type {\n",
       "        vertical-align: middle;\n",
       "    }\n",
       "\n",
       "    .dataframe tbody tr th {\n",
       "        vertical-align: top;\n",
       "    }\n",
       "\n",
       "    .dataframe thead th {\n",
       "        text-align: right;\n",
       "    }\n",
       "</style>\n",
       "<table border=\"1\" class=\"dataframe\">\n",
       "  <thead>\n",
       "    <tr style=\"text-align: right;\">\n",
       "      <th></th>\n",
       "      <th>bedrooms</th>\n",
       "      <th>bathrooms</th>\n",
       "      <th>area_sqft</th>\n",
       "      <th>tax_value</th>\n",
       "      <th>year_built</th>\n",
       "      <th>tax_amount</th>\n",
       "      <th>fips</th>\n",
       "    </tr>\n",
       "  </thead>\n",
       "  <tbody>\n",
       "    <tr>\n",
       "      <th>4</th>\n",
       "      <td>4.0</td>\n",
       "      <td>2.0</td>\n",
       "      <td>3633.0</td>\n",
       "      <td>296425.0</td>\n",
       "      <td>2005.0</td>\n",
       "      <td>6941.39</td>\n",
       "      <td>6037.0</td>\n",
       "    </tr>\n",
       "    <tr>\n",
       "      <th>6</th>\n",
       "      <td>3.0</td>\n",
       "      <td>4.0</td>\n",
       "      <td>1620.0</td>\n",
       "      <td>847770.0</td>\n",
       "      <td>2011.0</td>\n",
       "      <td>10244.94</td>\n",
       "      <td>6037.0</td>\n",
       "    </tr>\n",
       "    <tr>\n",
       "      <th>7</th>\n",
       "      <td>3.0</td>\n",
       "      <td>2.0</td>\n",
       "      <td>2077.0</td>\n",
       "      <td>646760.0</td>\n",
       "      <td>1926.0</td>\n",
       "      <td>7924.68</td>\n",
       "      <td>6037.0</td>\n",
       "    </tr>\n",
       "    <tr>\n",
       "      <th>18</th>\n",
       "      <td>3.0</td>\n",
       "      <td>1.0</td>\n",
       "      <td>1244.0</td>\n",
       "      <td>169471.0</td>\n",
       "      <td>1950.0</td>\n",
       "      <td>2532.88</td>\n",
       "      <td>6037.0</td>\n",
       "    </tr>\n",
       "    <tr>\n",
       "      <th>19</th>\n",
       "      <td>3.0</td>\n",
       "      <td>2.0</td>\n",
       "      <td>1300.0</td>\n",
       "      <td>233266.0</td>\n",
       "      <td>1950.0</td>\n",
       "      <td>3110.99</td>\n",
       "      <td>6037.0</td>\n",
       "    </tr>\n",
       "  </tbody>\n",
       "</table>\n",
       "</div>"
      ],
      "text/plain": [
       "    bedrooms  bathrooms  area_sqft  tax_value year_built  tax_amount    fips\n",
       "4        4.0        2.0     3633.0   296425.0     2005.0     6941.39  6037.0\n",
       "6        3.0        4.0     1620.0   847770.0     2011.0    10244.94  6037.0\n",
       "7        3.0        2.0     2077.0   646760.0     1926.0     7924.68  6037.0\n",
       "18       3.0        1.0     1244.0   169471.0     1950.0     2532.88  6037.0\n",
       "19       3.0        2.0     1300.0   233266.0     1950.0     3110.99  6037.0"
      ]
     },
     "execution_count": 2,
     "metadata": {},
     "output_type": "execute_result"
    }
   ],
   "source": [
    "# Acquire the data\n",
    "df = wrangle.wrangle_zillow()\n",
    "df.head()"
   ]
  },
  {
   "cell_type": "code",
   "execution_count": null,
   "id": "7df38cfa",
   "metadata": {
    "scrolled": false
   },
   "outputs": [],
   "source": [
    "# Increase the size of the figure to prevent overlapping\n",
    "plt.figure(figsize=(12, 3))\n",
    "\n",
    "# Create loop that will make all the histograms\n",
    "cols = [col for col in df.columns]\n",
    "for i, col in enumerate(cols):\n",
    "    \n",
    "    # i starts at 0, and counts each loop\n",
    "    plot_number = i + 1\n",
    "    \n",
    "    # Create subplots\n",
    "    plt.subplot(1, len(cols), plot_number) # <- row, columns, index\n",
    "    \n",
    "    # Create titles for subplots\n",
    "    plt.title(col)\n",
    "    \n",
    "    #Create histograms for the subplots\n",
    "    df[col].hist(bins=5)\n",
    "    \n",
    "    # Hide the grid in the subplots\n",
    "    plt.grid(False)\n",
    "    \n",
    "    "
   ]
  },
  {
   "cell_type": "code",
   "execution_count": null,
   "id": "58bf3e9f",
   "metadata": {
    "scrolled": true
   },
   "outputs": [],
   "source": [
    "# Increase the size of the figure to prevent overlapping\n",
    "plt.figure(figsize=(12, 3))\n",
    "\n",
    "# Create loop that will make all the histograms\n",
    "cols = [col for col in df.columns]\n",
    "for i, col in enumerate(cols):\n",
    "    \n",
    "    # i starts at 0, and counts each loop\n",
    "    plot_number = i + 1\n",
    "    \n",
    "    # Create subplots\n",
    "    plt.subplot(1, len(cols), plot_number) # <- row, columns, index\n",
    "    \n",
    "    # Create titles for subplots\n",
    "    plt.title(col)\n",
    "    \n",
    "    #Create histograms for the subplots\n",
    "    sns.boxplot(data = df[[col]])\n",
    "    \n",
    "    # Hide the grid in the subplots\n",
    "    plt.grid(False)"
   ]
  },
  {
   "cell_type": "code",
   "execution_count": 3,
   "id": "568f3718",
   "metadata": {},
   "outputs": [
    {
     "data": {
      "text/plain": [
       "((1459448, 7), (625478, 7), (416986, 7))"
      ]
     },
     "execution_count": 3,
     "metadata": {},
     "output_type": "execute_result"
    }
   ],
   "source": [
    "# Split the data\n",
    "train, validate, test = wrangle.wrangle_split(df)\n",
    "train.shape, validate.shape, test.shape"
   ]
  },
  {
   "cell_type": "code",
   "execution_count": 4,
   "id": "ad02aa75",
   "metadata": {
    "scrolled": true
   },
   "outputs": [
    {
     "data": {
      "text/html": [
       "<div>\n",
       "<style scoped>\n",
       "    .dataframe tbody tr th:only-of-type {\n",
       "        vertical-align: middle;\n",
       "    }\n",
       "\n",
       "    .dataframe tbody tr th {\n",
       "        vertical-align: top;\n",
       "    }\n",
       "\n",
       "    .dataframe thead th {\n",
       "        text-align: right;\n",
       "    }\n",
       "</style>\n",
       "<table border=\"1\" class=\"dataframe\">\n",
       "  <thead>\n",
       "    <tr style=\"text-align: right;\">\n",
       "      <th></th>\n",
       "      <th>bedrooms</th>\n",
       "      <th>bathrooms</th>\n",
       "      <th>area_sqft</th>\n",
       "      <th>tax_value</th>\n",
       "      <th>year_built</th>\n",
       "      <th>tax_amount</th>\n",
       "      <th>fips</th>\n",
       "    </tr>\n",
       "  </thead>\n",
       "  <tbody>\n",
       "    <tr>\n",
       "      <th>1979346</th>\n",
       "      <td>4.0</td>\n",
       "      <td>2.5</td>\n",
       "      <td>2068.0</td>\n",
       "      <td>492072.0</td>\n",
       "      <td>1989.0</td>\n",
       "      <td>5812.96</td>\n",
       "      <td>6059.0</td>\n",
       "    </tr>\n",
       "    <tr>\n",
       "      <th>1948908</th>\n",
       "      <td>4.0</td>\n",
       "      <td>2.5</td>\n",
       "      <td>1950.0</td>\n",
       "      <td>142946.0</td>\n",
       "      <td>1977.0</td>\n",
       "      <td>1605.92</td>\n",
       "      <td>6111.0</td>\n",
       "    </tr>\n",
       "    <tr>\n",
       "      <th>1606731</th>\n",
       "      <td>4.0</td>\n",
       "      <td>2.0</td>\n",
       "      <td>1713.0</td>\n",
       "      <td>290100.0</td>\n",
       "      <td>1994.0</td>\n",
       "      <td>4225.23</td>\n",
       "      <td>6037.0</td>\n",
       "    </tr>\n",
       "    <tr>\n",
       "      <th>1408008</th>\n",
       "      <td>3.0</td>\n",
       "      <td>1.5</td>\n",
       "      <td>1458.0</td>\n",
       "      <td>456000.0</td>\n",
       "      <td>1955.0</td>\n",
       "      <td>5285.24</td>\n",
       "      <td>6059.0</td>\n",
       "    </tr>\n",
       "    <tr>\n",
       "      <th>292925</th>\n",
       "      <td>2.0</td>\n",
       "      <td>2.0</td>\n",
       "      <td>971.0</td>\n",
       "      <td>202309.0</td>\n",
       "      <td>1984.0</td>\n",
       "      <td>2932.34</td>\n",
       "      <td>6037.0</td>\n",
       "    </tr>\n",
       "  </tbody>\n",
       "</table>\n",
       "</div>"
      ],
      "text/plain": [
       "         bedrooms  bathrooms  area_sqft  tax_value  year_built  tax_amount  \\\n",
       "1979346       4.0        2.5     2068.0   492072.0      1989.0     5812.96   \n",
       "1948908       4.0        2.5     1950.0   142946.0      1977.0     1605.92   \n",
       "1606731       4.0        2.0     1713.0   290100.0      1994.0     4225.23   \n",
       "1408008       3.0        1.5     1458.0   456000.0      1955.0     5285.24   \n",
       "292925        2.0        2.0      971.0   202309.0      1984.0     2932.34   \n",
       "\n",
       "           fips  \n",
       "1979346  6059.0  \n",
       "1948908  6111.0  \n",
       "1606731  6037.0  \n",
       "1408008  6059.0  \n",
       "292925   6037.0  "
      ]
     },
     "execution_count": 4,
     "metadata": {},
     "output_type": "execute_result"
    }
   ],
   "source": [
    "train.head()"
   ]
  },
  {
   "cell_type": "code",
   "execution_count": 5,
   "id": "b984b906",
   "metadata": {},
   "outputs": [
    {
     "data": {
      "text/plain": [
       "((1459448, 7), (625478, 7), (416986, 7))"
      ]
     },
     "execution_count": 5,
     "metadata": {},
     "output_type": "execute_result"
    }
   ],
   "source": [
    "train_scaled, validate_scaled, test_scaled = wrangle.scale_zillow(train, validate, test)\n",
    "train_scaled.shape, validate_scaled.shape, test_scaled.shape"
   ]
  },
  {
   "cell_type": "code",
   "execution_count": 6,
   "id": "e73e50e4",
   "metadata": {
    "scrolled": true
   },
   "outputs": [
    {
     "data": {
      "text/html": [
       "<div>\n",
       "<style scoped>\n",
       "    .dataframe tbody tr th:only-of-type {\n",
       "        vertical-align: middle;\n",
       "    }\n",
       "\n",
       "    .dataframe tbody tr th {\n",
       "        vertical-align: top;\n",
       "    }\n",
       "\n",
       "    .dataframe thead th {\n",
       "        text-align: right;\n",
       "    }\n",
       "</style>\n",
       "<table border=\"1\" class=\"dataframe\">\n",
       "  <thead>\n",
       "    <tr style=\"text-align: right;\">\n",
       "      <th></th>\n",
       "      <th>bedrooms</th>\n",
       "      <th>bathrooms</th>\n",
       "      <th>area_sqft</th>\n",
       "      <th>tax_value</th>\n",
       "      <th>year_built</th>\n",
       "      <th>tax_amount</th>\n",
       "      <th>fips</th>\n",
       "    </tr>\n",
       "  </thead>\n",
       "  <tbody>\n",
       "    <tr>\n",
       "      <th>0</th>\n",
       "      <td>0.666667</td>\n",
       "      <td>0.125</td>\n",
       "      <td>0.002170</td>\n",
       "      <td>0.006924</td>\n",
       "      <td>0.874419</td>\n",
       "      <td>0.007033</td>\n",
       "      <td>0.297297</td>\n",
       "    </tr>\n",
       "    <tr>\n",
       "      <th>1</th>\n",
       "      <td>0.666667</td>\n",
       "      <td>0.125</td>\n",
       "      <td>0.002046</td>\n",
       "      <td>0.002011</td>\n",
       "      <td>0.818605</td>\n",
       "      <td>0.001929</td>\n",
       "      <td>1.000000</td>\n",
       "    </tr>\n",
       "    <tr>\n",
       "      <th>2</th>\n",
       "      <td>0.666667</td>\n",
       "      <td>0.100</td>\n",
       "      <td>0.001797</td>\n",
       "      <td>0.004082</td>\n",
       "      <td>0.897674</td>\n",
       "      <td>0.005107</td>\n",
       "      <td>0.000000</td>\n",
       "    </tr>\n",
       "    <tr>\n",
       "      <th>3</th>\n",
       "      <td>0.333333</td>\n",
       "      <td>0.075</td>\n",
       "      <td>0.001530</td>\n",
       "      <td>0.006416</td>\n",
       "      <td>0.716279</td>\n",
       "      <td>0.006393</td>\n",
       "      <td>0.297297</td>\n",
       "    </tr>\n",
       "    <tr>\n",
       "      <th>4</th>\n",
       "      <td>0.000000</td>\n",
       "      <td>0.100</td>\n",
       "      <td>0.001018</td>\n",
       "      <td>0.002847</td>\n",
       "      <td>0.851163</td>\n",
       "      <td>0.003538</td>\n",
       "      <td>0.000000</td>\n",
       "    </tr>\n",
       "  </tbody>\n",
       "</table>\n",
       "</div>"
      ],
      "text/plain": [
       "   bedrooms  bathrooms  area_sqft  tax_value  year_built  tax_amount      fips\n",
       "0  0.666667      0.125   0.002170   0.006924    0.874419    0.007033  0.297297\n",
       "1  0.666667      0.125   0.002046   0.002011    0.818605    0.001929  1.000000\n",
       "2  0.666667      0.100   0.001797   0.004082    0.897674    0.005107  0.000000\n",
       "3  0.333333      0.075   0.001530   0.006416    0.716279    0.006393  0.297297\n",
       "4  0.000000      0.100   0.001018   0.002847    0.851163    0.003538  0.000000"
      ]
     },
     "execution_count": 6,
     "metadata": {},
     "output_type": "execute_result"
    }
   ],
   "source": [
    "train_scaled.head()"
   ]
  },
  {
   "cell_type": "code",
   "execution_count": null,
   "id": "b858020c",
   "metadata": {
    "scrolled": true
   },
   "outputs": [],
   "source": [
    "col_list = ['bedrooms', 'bathrooms', 'area_sqft', 'tax_value', 'tax_amount']\n",
    "sns.pairplot(train_scaled[col_list])\n",
    "plt.show()"
   ]
  },
  {
   "cell_type": "code",
   "execution_count": null,
   "id": "bf46e0e5",
   "metadata": {
    "scrolled": true
   },
   "outputs": [],
   "source": [
    "plt.figure(figsize=(8,6))\n",
    "# The mask argument calls an np heatmap to extract a lower triangle from\n",
    "sns.heatmap(train_scaled, cmap='Blues', annot=True, linewidth=0.5)\n",
    "\n",
    "plt.show()"
   ]
  },
  {
   "cell_type": "code",
   "execution_count": null,
   "id": "2b6efcec",
   "metadata": {},
   "outputs": [],
   "source": []
  },
  {
   "cell_type": "code",
   "execution_count": null,
   "id": "54c10267",
   "metadata": {},
   "outputs": [],
   "source": []
  },
  {
   "cell_type": "code",
   "execution_count": null,
   "id": "a605752c",
   "metadata": {},
   "outputs": [],
   "source": []
  }
 ],
 "metadata": {
  "kernelspec": {
   "display_name": "Python 3",
   "language": "python",
   "name": "python3"
  },
  "language_info": {
   "codemirror_mode": {
    "name": "ipython",
    "version": 3
   },
   "file_extension": ".py",
   "mimetype": "text/x-python",
   "name": "python",
   "nbconvert_exporter": "python",
   "pygments_lexer": "ipython3",
   "version": "3.8.8"
  }
 },
 "nbformat": 4,
 "nbformat_minor": 5
}
