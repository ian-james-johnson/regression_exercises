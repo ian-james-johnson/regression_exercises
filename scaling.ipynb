{
 "cells": [
  {
   "cell_type": "code",
   "execution_count": 1,
   "id": "eccdddb1",
   "metadata": {},
   "outputs": [],
   "source": [
    "import warnings\n",
    "warnings.filterwarnings('ignore')\n",
    "\n",
    "import numpy as np\n",
    "import pandas as pd\n",
    "import matplotlib.pyplot as plt\n",
    "import seaborn as sns\n",
    "\n",
    "from sklearn.model_selection import train_test_split\n",
    "from sklearn.impute import SimpleImputer\n",
    "import sklearn\n",
    "\n",
    "import os\n",
    "\n",
    "from env import user, host, password\n",
    "#from wrangle import get_connection, new_zillow_data, get_zillow_data, remove_outliers\n",
    "import wrangle"
   ]
  },
  {
   "cell_type": "markdown",
   "id": "9c641bd7",
   "metadata": {},
   "source": [
    "# 1 <br>\n",
    "Apply the scalers we talked about in this lesson to your data and visualize the results for the unscaled and scaled distribution ."
   ]
  },
  {
   "cell_type": "code",
   "execution_count": 2,
   "id": "2ddc18f6",
   "metadata": {
    "scrolled": true
   },
   "outputs": [
    {
     "data": {
      "text/html": [
       "<div>\n",
       "<style scoped>\n",
       "    .dataframe tbody tr th:only-of-type {\n",
       "        vertical-align: middle;\n",
       "    }\n",
       "\n",
       "    .dataframe tbody tr th {\n",
       "        vertical-align: top;\n",
       "    }\n",
       "\n",
       "    .dataframe thead th {\n",
       "        text-align: right;\n",
       "    }\n",
       "</style>\n",
       "<table border=\"1\" class=\"dataframe\">\n",
       "  <thead>\n",
       "    <tr style=\"text-align: right;\">\n",
       "      <th></th>\n",
       "      <th>bedrooms</th>\n",
       "      <th>bathrooms</th>\n",
       "      <th>area_sqft</th>\n",
       "      <th>tax_value</th>\n",
       "      <th>year_built</th>\n",
       "      <th>tax_amount</th>\n",
       "      <th>fips</th>\n",
       "    </tr>\n",
       "  </thead>\n",
       "  <tbody>\n",
       "    <tr>\n",
       "      <th>4</th>\n",
       "      <td>4.0</td>\n",
       "      <td>2.0</td>\n",
       "      <td>3633.0</td>\n",
       "      <td>296425.0</td>\n",
       "      <td>2005.0</td>\n",
       "      <td>6941.39</td>\n",
       "      <td>6037.0</td>\n",
       "    </tr>\n",
       "    <tr>\n",
       "      <th>6</th>\n",
       "      <td>3.0</td>\n",
       "      <td>4.0</td>\n",
       "      <td>1620.0</td>\n",
       "      <td>847770.0</td>\n",
       "      <td>2011.0</td>\n",
       "      <td>10244.94</td>\n",
       "      <td>6037.0</td>\n",
       "    </tr>\n",
       "    <tr>\n",
       "      <th>7</th>\n",
       "      <td>3.0</td>\n",
       "      <td>2.0</td>\n",
       "      <td>2077.0</td>\n",
       "      <td>646760.0</td>\n",
       "      <td>1926.0</td>\n",
       "      <td>7924.68</td>\n",
       "      <td>6037.0</td>\n",
       "    </tr>\n",
       "    <tr>\n",
       "      <th>18</th>\n",
       "      <td>3.0</td>\n",
       "      <td>1.0</td>\n",
       "      <td>1244.0</td>\n",
       "      <td>169471.0</td>\n",
       "      <td>1950.0</td>\n",
       "      <td>2532.88</td>\n",
       "      <td>6037.0</td>\n",
       "    </tr>\n",
       "    <tr>\n",
       "      <th>19</th>\n",
       "      <td>3.0</td>\n",
       "      <td>2.0</td>\n",
       "      <td>1300.0</td>\n",
       "      <td>233266.0</td>\n",
       "      <td>1950.0</td>\n",
       "      <td>3110.99</td>\n",
       "      <td>6037.0</td>\n",
       "    </tr>\n",
       "  </tbody>\n",
       "</table>\n",
       "</div>"
      ],
      "text/plain": [
       "    bedrooms  bathrooms  area_sqft  tax_value year_built  tax_amount    fips\n",
       "4        4.0        2.0     3633.0   296425.0     2005.0     6941.39  6037.0\n",
       "6        3.0        4.0     1620.0   847770.0     2011.0    10244.94  6037.0\n",
       "7        3.0        2.0     2077.0   646760.0     1926.0     7924.68  6037.0\n",
       "18       3.0        1.0     1244.0   169471.0     1950.0     2532.88  6037.0\n",
       "19       3.0        2.0     1300.0   233266.0     1950.0     3110.99  6037.0"
      ]
     },
     "execution_count": 2,
     "metadata": {},
     "output_type": "execute_result"
    }
   ],
   "source": [
    "df = wrangle.wrangle_zillow()\n",
    "df.head()"
   ]
  },
  {
   "cell_type": "code",
   "execution_count": 3,
   "id": "d1d681cc",
   "metadata": {},
   "outputs": [
    {
     "data": {
      "text/plain": [
       "(2084926, 7)"
      ]
     },
     "execution_count": 3,
     "metadata": {},
     "output_type": "execute_result"
    }
   ],
   "source": [
    "df.shape"
   ]
  },
  {
   "cell_type": "code",
   "execution_count": 4,
   "id": "30ce8ab8",
   "metadata": {
    "scrolled": true
   },
   "outputs": [
    {
     "name": "stdout",
     "output_type": "stream",
     "text": [
      "<class 'pandas.core.frame.DataFrame'>\n",
      "Int64Index: 2084926 entries, 4 to 2152862\n",
      "Data columns (total 7 columns):\n",
      " #   Column      Dtype  \n",
      "---  ------      -----  \n",
      " 0   bedrooms    float64\n",
      " 1   bathrooms   float64\n",
      " 2   area_sqft   float64\n",
      " 3   tax_value   float64\n",
      " 4   year_built  object \n",
      " 5   tax_amount  float64\n",
      " 6   fips        object \n",
      "dtypes: float64(5), object(2)\n",
      "memory usage: 127.3+ MB\n"
     ]
    }
   ],
   "source": [
    "df.info()"
   ]
  },
  {
   "cell_type": "code",
   "execution_count": 5,
   "id": "6f3e774a",
   "metadata": {
    "scrolled": true
   },
   "outputs": [
    {
     "data": {
      "text/html": [
       "<div>\n",
       "<style scoped>\n",
       "    .dataframe tbody tr th:only-of-type {\n",
       "        vertical-align: middle;\n",
       "    }\n",
       "\n",
       "    .dataframe tbody tr th {\n",
       "        vertical-align: top;\n",
       "    }\n",
       "\n",
       "    .dataframe thead th {\n",
       "        text-align: right;\n",
       "    }\n",
       "</style>\n",
       "<table border=\"1\" class=\"dataframe\">\n",
       "  <thead>\n",
       "    <tr style=\"text-align: right;\">\n",
       "      <th></th>\n",
       "      <th>count</th>\n",
       "      <th>mean</th>\n",
       "      <th>std</th>\n",
       "      <th>min</th>\n",
       "      <th>25%</th>\n",
       "      <th>50%</th>\n",
       "      <th>75%</th>\n",
       "      <th>max</th>\n",
       "    </tr>\n",
       "  </thead>\n",
       "  <tbody>\n",
       "    <tr>\n",
       "      <th>bedrooms</th>\n",
       "      <td>2084926.0</td>\n",
       "      <td>3.288043</td>\n",
       "      <td>0.819514</td>\n",
       "      <td>2.00</td>\n",
       "      <td>3.0000</td>\n",
       "      <td>3.00</td>\n",
       "      <td>4.0000</td>\n",
       "      <td>5.00</td>\n",
       "    </tr>\n",
       "    <tr>\n",
       "      <th>bathrooms</th>\n",
       "      <td>2084926.0</td>\n",
       "      <td>2.220187</td>\n",
       "      <td>0.917704</td>\n",
       "      <td>0.00</td>\n",
       "      <td>2.0000</td>\n",
       "      <td>2.00</td>\n",
       "      <td>3.0000</td>\n",
       "      <td>20.00</td>\n",
       "    </tr>\n",
       "    <tr>\n",
       "      <th>area_sqft</th>\n",
       "      <td>2084751.0</td>\n",
       "      <td>1838.194905</td>\n",
       "      <td>1087.866122</td>\n",
       "      <td>1.00</td>\n",
       "      <td>1263.0000</td>\n",
       "      <td>1620.00</td>\n",
       "      <td>2184.0000</td>\n",
       "      <td>952576.00</td>\n",
       "    </tr>\n",
       "    <tr>\n",
       "      <th>tax_value</th>\n",
       "      <td>2084824.0</td>\n",
       "      <td>446216.057986</td>\n",
       "      <td>566938.973646</td>\n",
       "      <td>1.00</td>\n",
       "      <td>189623.0000</td>\n",
       "      <td>327430.00</td>\n",
       "      <td>530000.0000</td>\n",
       "      <td>71067500.00</td>\n",
       "    </tr>\n",
       "    <tr>\n",
       "      <th>tax_amount</th>\n",
       "      <td>2082648.0</td>\n",
       "      <td>5449.443287</td>\n",
       "      <td>6487.574928</td>\n",
       "      <td>16.48</td>\n",
       "      <td>2550.0075</td>\n",
       "      <td>4103.12</td>\n",
       "      <td>6361.1325</td>\n",
       "      <td>824166.91</td>\n",
       "    </tr>\n",
       "  </tbody>\n",
       "</table>\n",
       "</div>"
      ],
      "text/plain": [
       "                count           mean            std    min          25%  \\\n",
       "bedrooms    2084926.0       3.288043       0.819514   2.00       3.0000   \n",
       "bathrooms   2084926.0       2.220187       0.917704   0.00       2.0000   \n",
       "area_sqft   2084751.0    1838.194905    1087.866122   1.00    1263.0000   \n",
       "tax_value   2084824.0  446216.057986  566938.973646   1.00  189623.0000   \n",
       "tax_amount  2082648.0    5449.443287    6487.574928  16.48    2550.0075   \n",
       "\n",
       "                  50%          75%          max  \n",
       "bedrooms         3.00       4.0000         5.00  \n",
       "bathrooms        2.00       3.0000        20.00  \n",
       "area_sqft     1620.00    2184.0000    952576.00  \n",
       "tax_value   327430.00  530000.0000  71067500.00  \n",
       "tax_amount    4103.12    6361.1325    824166.91  "
      ]
     },
     "execution_count": 5,
     "metadata": {},
     "output_type": "execute_result"
    }
   ],
   "source": [
    "df.describe().T    "
   ]
  },
  {
   "cell_type": "code",
   "execution_count": 6,
   "id": "b3e8a9db",
   "metadata": {},
   "outputs": [
    {
     "data": {
      "text/plain": [
       "((1459448, 7), (625478, 7), (416986, 7))"
      ]
     },
     "execution_count": 6,
     "metadata": {},
     "output_type": "execute_result"
    }
   ],
   "source": [
    "train, validate, test = wrangle.wrangle_split(df)\n",
    "train.shape, validate.shape, test.shape"
   ]
  },
  {
   "cell_type": "code",
   "execution_count": 7,
   "id": "7b87c04a",
   "metadata": {},
   "outputs": [
    {
     "data": {
      "text/html": [
       "<div>\n",
       "<style scoped>\n",
       "    .dataframe tbody tr th:only-of-type {\n",
       "        vertical-align: middle;\n",
       "    }\n",
       "\n",
       "    .dataframe tbody tr th {\n",
       "        vertical-align: top;\n",
       "    }\n",
       "\n",
       "    .dataframe thead th {\n",
       "        text-align: right;\n",
       "    }\n",
       "</style>\n",
       "<table border=\"1\" class=\"dataframe\">\n",
       "  <thead>\n",
       "    <tr style=\"text-align: right;\">\n",
       "      <th></th>\n",
       "      <th>bedrooms</th>\n",
       "      <th>bathrooms</th>\n",
       "      <th>area_sqft</th>\n",
       "      <th>tax_value</th>\n",
       "      <th>year_built</th>\n",
       "      <th>tax_amount</th>\n",
       "      <th>fips</th>\n",
       "    </tr>\n",
       "  </thead>\n",
       "  <tbody>\n",
       "    <tr>\n",
       "      <th>1979346</th>\n",
       "      <td>4.0</td>\n",
       "      <td>2.5</td>\n",
       "      <td>2068.0</td>\n",
       "      <td>492072.0</td>\n",
       "      <td>1989.0</td>\n",
       "      <td>5812.96</td>\n",
       "      <td>6059.0</td>\n",
       "    </tr>\n",
       "    <tr>\n",
       "      <th>1948908</th>\n",
       "      <td>4.0</td>\n",
       "      <td>2.5</td>\n",
       "      <td>1950.0</td>\n",
       "      <td>142946.0</td>\n",
       "      <td>1977.0</td>\n",
       "      <td>1605.92</td>\n",
       "      <td>6111.0</td>\n",
       "    </tr>\n",
       "    <tr>\n",
       "      <th>1606731</th>\n",
       "      <td>4.0</td>\n",
       "      <td>2.0</td>\n",
       "      <td>1713.0</td>\n",
       "      <td>290100.0</td>\n",
       "      <td>1994.0</td>\n",
       "      <td>4225.23</td>\n",
       "      <td>6037.0</td>\n",
       "    </tr>\n",
       "    <tr>\n",
       "      <th>1408008</th>\n",
       "      <td>3.0</td>\n",
       "      <td>1.5</td>\n",
       "      <td>1458.0</td>\n",
       "      <td>456000.0</td>\n",
       "      <td>1955.0</td>\n",
       "      <td>5285.24</td>\n",
       "      <td>6059.0</td>\n",
       "    </tr>\n",
       "    <tr>\n",
       "      <th>292925</th>\n",
       "      <td>2.0</td>\n",
       "      <td>2.0</td>\n",
       "      <td>971.0</td>\n",
       "      <td>202309.0</td>\n",
       "      <td>1984.0</td>\n",
       "      <td>2932.34</td>\n",
       "      <td>6037.0</td>\n",
       "    </tr>\n",
       "  </tbody>\n",
       "</table>\n",
       "</div>"
      ],
      "text/plain": [
       "         bedrooms  bathrooms  area_sqft  tax_value  year_built  tax_amount  \\\n",
       "1979346       4.0        2.5     2068.0   492072.0      1989.0     5812.96   \n",
       "1948908       4.0        2.5     1950.0   142946.0      1977.0     1605.92   \n",
       "1606731       4.0        2.0     1713.0   290100.0      1994.0     4225.23   \n",
       "1408008       3.0        1.5     1458.0   456000.0      1955.0     5285.24   \n",
       "292925        2.0        2.0      971.0   202309.0      1984.0     2932.34   \n",
       "\n",
       "           fips  \n",
       "1979346  6059.0  \n",
       "1948908  6111.0  \n",
       "1606731  6037.0  \n",
       "1408008  6059.0  \n",
       "292925   6037.0  "
      ]
     },
     "execution_count": 7,
     "metadata": {},
     "output_type": "execute_result"
    }
   ],
   "source": [
    "train.head()"
   ]
  },
  {
   "cell_type": "markdown",
   "id": "5f650616",
   "metadata": {},
   "source": [
    "# Min-Max Scaling"
   ]
  },
  {
   "cell_type": "code",
   "execution_count": null,
   "id": "70f3b4b2",
   "metadata": {},
   "outputs": [],
   "source": [
    "# Create the object\n",
    "scaler = sklearn.preprocessing.MinMaxScaler()\n",
    "\n",
    "# Fit the object\n",
    "# Scalers should only be fit to train to prevent data leakage\n",
    "scaler.fit(train)\n",
    "\n",
    "# Use the object\n",
    "# the same object that was fitted to train can be used on validate and test\n",
    "train_scaled = scaler.transform(train)\n",
    "validate_scaled = scaler.transform(validate)\n",
    "test_scaled = scaler.transform(test)\n",
    "\n",
    "# Plot the original and scaled data\n",
    "plt.figure(figsize=(13, 6))\n",
    "plt.subplot(121)\n",
    "plt.hist(train, bins=25, ec='black')\n",
    "plt.title('Original')\n",
    "plt.subplot(122)\n",
    "plt.hist(train_scaled, bins=25, ec='black')\n",
    "plt.title('Scaled')"
   ]
  },
  {
   "cell_type": "markdown",
   "id": "5ef91fa5",
   "metadata": {},
   "source": [
    "# 2 <br>\n",
    "Apply the .inverse_transform method to your scaled data. Is the resulting dataset the exact same as the original data?"
   ]
  },
  {
   "cell_type": "code",
   "execution_count": null,
   "id": "cbd3ac1b",
   "metadata": {
    "scrolled": true
   },
   "outputs": [],
   "source": [
    "# Scale with inverse transformation\n",
    "train_inverse = scaler.inverse_transform(train)\n",
    "\n",
    "# Plot the original and scaled data\n",
    "plt.figure(figsize=(13, 6))\n",
    "plt.subplot(121)\n",
    "plt.hist(train, bins=25, ec='black')\n",
    "plt.title('Original')\n",
    "plt.subplot(122)\n",
    "plt.hist(train_inverse, bins=25, ec='black')\n",
    "plt.title('Inverse Scaled')"
   ]
  },
  {
   "cell_type": "markdown",
   "id": "7d7a4686",
   "metadata": {},
   "source": [
    "# 3 <br>\n",
    "Read the documentation for sklearn's QuantileTransformer. Use normal for the output_distribution and apply this scaler to your data. Visualize the result of your data scaling."
   ]
  },
  {
   "cell_type": "code",
   "execution_count": null,
   "id": "bdceb429",
   "metadata": {},
   "outputs": [],
   "source": [
    "# Create the object\n",
    "qt = sklearn.preprocessing.QuantileTransformer(n_quantiles=10, output_distribution='normal', random_state=0)\n",
    "\n",
    "# fit_transform method does both fit and transform steps\n",
    "qt.fit_transform(train)"
   ]
  },
  {
   "cell_type": "code",
   "execution_count": null,
   "id": "07fab419",
   "metadata": {},
   "outputs": [],
   "source": [
    "train_quantile = qt.transform(train)\n",
    "\n",
    "# Plot the original and scaled data\n",
    "plt.figure(figsize=(13, 6))\n",
    "plt.subplot(121)\n",
    "plt.hist(train, bins=25, ec='black')\n",
    "plt.title('Original')\n",
    "plt.subplot(122)\n",
    "plt.hist(train_quantile, bins=25, ec='black')\n",
    "plt.title('Quantile Scaled')"
   ]
  },
  {
   "cell_type": "markdown",
   "id": "2122671b",
   "metadata": {},
   "source": [
    "# 4 <br>\n",
    "Use the QuantileTransformer, but omit the output_distribution argument. Visualize your results. What do you notice?"
   ]
  },
  {
   "cell_type": "code",
   "execution_count": null,
   "id": "aa058fa7",
   "metadata": {
    "scrolled": true
   },
   "outputs": [],
   "source": [
    "# Create the object\n",
    "# Ommiting the output_distribution argument for the function\n",
    "qt = sklearn.preprocessing.QuantileTransformer(n_quantiles=10, random_state=0)\n",
    "\n",
    "# fit_transform method does both fit and transform steps\n",
    "qt.fit_transform(train)\n",
    "\n",
    "train_quantile = qt.transform(train)\n",
    "\n",
    "# Plot the original and scaled data\n",
    "plt.figure(figsize=(13, 6))\n",
    "plt.subplot(121)\n",
    "plt.hist(train, bins=25, ec='black')\n",
    "plt.title('Original')\n",
    "plt.subplot(122)\n",
    "plt.hist(train_quantile, bins=25, ec='black')\n",
    "plt.title('Quantile Scaled')"
   ]
  },
  {
   "cell_type": "markdown",
   "id": "f9864996",
   "metadata": {},
   "source": [
    "Setting the ouput_distribution argument to normal will transform the data into a normal distribution."
   ]
  },
  {
   "cell_type": "markdown",
   "id": "4d9cd957",
   "metadata": {},
   "source": [
    "# 5 <br>\n",
    "Based on the work you've done, choose a scaling method for your dataset. Write a function within your prepare.py that accepts as input the train, validate, and test data splits, and returns the scaled versions of each. Be sure to only learn the parameters for scaling from your training data!"
   ]
  },
  {
   "cell_type": "code",
   "execution_count": null,
   "id": "57f4be1d",
   "metadata": {},
   "outputs": [],
   "source": [
    "# Writing practice function in notebook so that I can test it more easily\n",
    "# I chose to use Min-Max scaler because it preserves the shape of the data\n",
    "\n",
    "#def scale_zillow(train, test, validate):\n",
    "    # Create the object\n",
    "#    scaler = sklearn.preprocessing.MinMaxScaler()\n",
    "\n",
    "    # Fit the object\n",
    "    # Scalers should only be fit to train to prevent data leakage\n",
    "#    scaler.fit(train)\n",
    "\n",
    "    # Use the object\n",
    "    # the same object that was fitted to train can be used on validate and test\n",
    "#    train_scaled = scaler.transform(train)\n",
    "#    validate_scaled = scaler.transform(validate)\n",
    "#    test_scaled = scaler.transform(test)\n",
    "    \n",
    "#    return train_scaled, validate_scaled, test_scaled"
   ]
  },
  {
   "cell_type": "code",
   "execution_count": 8,
   "id": "43070299",
   "metadata": {},
   "outputs": [
    {
     "data": {
      "text/plain": [
       "Text(0.5, 1.0, 'Scaled')"
      ]
     },
     "execution_count": 8,
     "metadata": {},
     "output_type": "execute_result"
    },
    {
     "data": {
      "image/png": "[encoded data removed]",
      "text/plain": [
       "<Figure size 936x432 with 2 Axes>"
      ]
     },
     "metadata": {
      "needs_background": "light"
     },
     "output_type": "display_data"
    }
   ],
   "source": [
    "train_scaled, validate_scaled, test_scaled = wrangle.scale_zillow(train, test, validate)\n",
    "\n",
    "# Plot the original and scaled data\n",
    "plt.figure(figsize=(13, 6))\n",
    "plt.subplot(121)\n",
    "plt.hist(train, bins=25, ec='black')\n",
    "plt.title('Original')\n",
    "plt.subplot(122)\n",
    "plt.hist(train_scaled, bins=25, ec='black')\n",
    "plt.title('Scaled')"
   ]
  },
  {
   "cell_type": "code",
   "execution_count": 9,
   "id": "f22b938e",
   "metadata": {},
   "outputs": [
    {
     "data": {
      "text/plain": [
       "((1459448, 7), (625478, 7), (416986, 7))"
      ]
     },
     "execution_count": 9,
     "metadata": {},
     "output_type": "execute_result"
    }
   ],
   "source": [
    "# Split the data\n",
    "train, validate, test = wrangle.wrangle_split(df)\n",
    "train.shape, validate.shape, test.shape"
   ]
  },
  {
   "cell_type": "code",
   "execution_count": null,
   "id": "32439e3e",
   "metadata": {},
   "outputs": [],
   "source": []
  }
 ],
 "metadata": {
  "kernelspec": {
   "display_name": "Python 3",
   "language": "python",
   "name": "python3"
  },
  "language_info": {
   "codemirror_mode": {
    "name": "ipython",
    "version": 3
   },
   "file_extension": ".py",
   "mimetype": "text/x-python",
   "name": "python",
   "nbconvert_exporter": "python",
   "pygments_lexer": "ipython3",
   "version": "3.8.8"
  }
 },
 "nbformat": 4,
 "nbformat_minor": 5
}
